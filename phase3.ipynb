{
 "cells": [
  {
   "cell_type": "markdown",
   "metadata": {},
   "source": [
    "# Enhancing Customer Loyalty at Syriatel: Predictive Modeling for Churn Prevention"
   ]
  },
  {
   "cell_type": "markdown",
   "metadata": {},
   "source": [
    "## Business Understanding"
   ]
  },
  {
   "cell_type": "markdown",
   "metadata": {},
   "source": [
    "The Main objective for this notebook is to develop an accurate predictive classifier to identify customer churn for Syriatel, a telecommunications company. The key focus is to assist SyriaTel in mitigating revenues losses by gaining insights into the factors driving customer churn.\n",
    "\n",
    "Data processing was conducted to rectify missing values, encode categorical variables, and standardize numerical attributes, ensuring the dataset was prepared for modeling.\n",
    "I conducted an evaluation of four different classification models to assess their performance. After this evaluation, I selected the best-performing model among them. Following this, I examined the most important features in the chosen model.\n",
    "\n",
    "SyriaTel faces a pressing challenge in customer churn, which can lead to substantial financial losses. Customer retention is a top priority, and this project's outcome will empower SyriaTel to proactively address churn, boost customer satisfaction, and maintain its competitive edge in the telecommunications industry."
   ]
  },
  {
   "cell_type": "markdown",
   "metadata": {},
   "source": [
    "## Data Understanding"
   ]
  },
  {
   "cell_type": "markdown",
   "metadata": {},
   "source": [
    "The following cell imports essential Python packages for coding."
   ]
  },
  {
   "cell_type": "code",
   "execution_count": 2,
   "metadata": {},
   "outputs": [],
   "source": [
    "# Data manipulation \n",
    "import pandas as pd \n",
    "import numpy as np \n",
    "\n",
    "# Data visualization\n",
    "import seaborn as sns \n",
    "import matplotlib.pyplot as plt \n",
    "\n",
    "# Modeling\n",
    "from sklearn.model_selection import train_test_split,cross_val_score,GridSearchCV #splitting the dataset into test-train sets\n",
    "from imblearn.over_sampling import SMOTE\n",
    "from sklearn.metrics import accuracy_score,f1_score,recall_score,precision_score,confusion_matrix,roc_curve,roc_auc_score,classification_report # performance metrics\n",
    "from sklearn.preprocessing import LabelEncoder \n",
    "from sklearn.preprocessing import StandardScaler\n",
    "from scipy import stats\n",
    "\n",
    "# Algorithms for supervised learning methods\n",
    "from sklearn.tree import DecisionTreeClassifier\n",
    "from sklearn.ensemble import RandomForestClassifier\n",
    "from sklearn.linear_model import LogisticRegression\n",
    "from sklearn.neighbors import KNeighborsClassifier\n",
    "\n",
    "# Filtering future warnings\n",
    "import warnings\n",
    "warnings.filterwarnings('ignore')"
   ]
  },
  {
   "cell_type": "code",
   "execution_count": 3,
   "metadata": {},
   "outputs": [
    {
     "data": {
      "text/html": [
       "<div>\n",
       "<style scoped>\n",
       "    .dataframe tbody tr th:only-of-type {\n",
       "        vertical-align: middle;\n",
       "    }\n",
       "\n",
       "    .dataframe tbody tr th {\n",
       "        vertical-align: top;\n",
       "    }\n",
       "\n",
       "    .dataframe thead th {\n",
       "        text-align: right;\n",
       "    }\n",
       "</style>\n",
       "<table border=\"1\" class=\"dataframe\">\n",
       "  <thead>\n",
       "    <tr style=\"text-align: right;\">\n",
       "      <th></th>\n",
       "      <th>state</th>\n",
       "      <th>account length</th>\n",
       "      <th>area code</th>\n",
       "      <th>phone number</th>\n",
       "      <th>international plan</th>\n",
       "      <th>voice mail plan</th>\n",
       "      <th>number vmail messages</th>\n",
       "      <th>total day minutes</th>\n",
       "      <th>total day calls</th>\n",
       "      <th>total day charge</th>\n",
       "      <th>...</th>\n",
       "      <th>total eve calls</th>\n",
       "      <th>total eve charge</th>\n",
       "      <th>total night minutes</th>\n",
       "      <th>total night calls</th>\n",
       "      <th>total night charge</th>\n",
       "      <th>total intl minutes</th>\n",
       "      <th>total intl calls</th>\n",
       "      <th>total intl charge</th>\n",
       "      <th>customer service calls</th>\n",
       "      <th>churn</th>\n",
       "    </tr>\n",
       "  </thead>\n",
       "  <tbody>\n",
       "    <tr>\n",
       "      <th>0</th>\n",
       "      <td>KS</td>\n",
       "      <td>128</td>\n",
       "      <td>415</td>\n",
       "      <td>382-4657</td>\n",
       "      <td>no</td>\n",
       "      <td>yes</td>\n",
       "      <td>25</td>\n",
       "      <td>265.1</td>\n",
       "      <td>110</td>\n",
       "      <td>45.07</td>\n",
       "      <td>...</td>\n",
       "      <td>99</td>\n",
       "      <td>16.78</td>\n",
       "      <td>244.7</td>\n",
       "      <td>91</td>\n",
       "      <td>11.01</td>\n",
       "      <td>10.0</td>\n",
       "      <td>3</td>\n",
       "      <td>2.7</td>\n",
       "      <td>1</td>\n",
       "      <td>False</td>\n",
       "    </tr>\n",
       "    <tr>\n",
       "      <th>1</th>\n",
       "      <td>OH</td>\n",
       "      <td>107</td>\n",
       "      <td>415</td>\n",
       "      <td>371-7191</td>\n",
       "      <td>no</td>\n",
       "      <td>yes</td>\n",
       "      <td>26</td>\n",
       "      <td>161.6</td>\n",
       "      <td>123</td>\n",
       "      <td>27.47</td>\n",
       "      <td>...</td>\n",
       "      <td>103</td>\n",
       "      <td>16.62</td>\n",
       "      <td>254.4</td>\n",
       "      <td>103</td>\n",
       "      <td>11.45</td>\n",
       "      <td>13.7</td>\n",
       "      <td>3</td>\n",
       "      <td>3.7</td>\n",
       "      <td>1</td>\n",
       "      <td>False</td>\n",
       "    </tr>\n",
       "  </tbody>\n",
       "</table>\n",
       "<p>2 rows × 21 columns</p>\n",
       "</div>"
      ],
      "text/plain": [
       "  state  account length  area code phone number international plan  \\\n",
       "0    KS             128        415     382-4657                 no   \n",
       "1    OH             107        415     371-7191                 no   \n",
       "\n",
       "  voice mail plan  number vmail messages  total day minutes  total day calls  \\\n",
       "0             yes                     25              265.1              110   \n",
       "1             yes                     26              161.6              123   \n",
       "\n",
       "   total day charge  ...  total eve calls  total eve charge  \\\n",
       "0             45.07  ...               99             16.78   \n",
       "1             27.47  ...              103             16.62   \n",
       "\n",
       "   total night minutes  total night calls  total night charge  \\\n",
       "0                244.7                 91               11.01   \n",
       "1                254.4                103               11.45   \n",
       "\n",
       "   total intl minutes  total intl calls  total intl charge  \\\n",
       "0                10.0                 3                2.7   \n",
       "1                13.7                 3                3.7   \n",
       "\n",
       "   customer service calls  churn  \n",
       "0                       1  False  \n",
       "1                       1  False  \n",
       "\n",
       "[2 rows x 21 columns]"
      ]
     },
     "execution_count": 3,
     "metadata": {},
     "output_type": "execute_result"
    }
   ],
   "source": [
    "#Loading the dataset into a dataframe\n",
    "df = pd.read_csv('Syntel customer churn/bigml_59c28831336c6604c800002a.csv')\n",
    "df.head(2)"
   ]
  },
  {
   "cell_type": "code",
   "execution_count": 4,
   "metadata": {},
   "outputs": [
    {
     "data": {
      "text/plain": [
       "(3333, 21)"
      ]
     },
     "execution_count": 4,
     "metadata": {},
     "output_type": "execute_result"
    }
   ],
   "source": [
    "#Checking how many rows and columns are in the dataframe\n",
    "df.shape"
   ]
  },
  {
   "cell_type": "code",
   "execution_count": 5,
   "metadata": {},
   "outputs": [
    {
     "name": "stdout",
     "output_type": "stream",
     "text": [
      "<class 'pandas.core.frame.DataFrame'>\n",
      "RangeIndex: 3333 entries, 0 to 3332\n",
      "Data columns (total 21 columns):\n",
      " #   Column                  Non-Null Count  Dtype  \n",
      "---  ------                  --------------  -----  \n",
      " 0   state                   3333 non-null   object \n",
      " 1   account length          3333 non-null   int64  \n",
      " 2   area code               3333 non-null   int64  \n",
      " 3   phone number            3333 non-null   object \n",
      " 4   international plan      3333 non-null   object \n",
      " 5   voice mail plan         3333 non-null   object \n",
      " 6   number vmail messages   3333 non-null   int64  \n",
      " 7   total day minutes       3333 non-null   float64\n",
      " 8   total day calls         3333 non-null   int64  \n",
      " 9   total day charge        3333 non-null   float64\n",
      " 10  total eve minutes       3333 non-null   float64\n",
      " 11  total eve calls         3333 non-null   int64  \n",
      " 12  total eve charge        3333 non-null   float64\n",
      " 13  total night minutes     3333 non-null   float64\n",
      " 14  total night calls       3333 non-null   int64  \n",
      " 15  total night charge      3333 non-null   float64\n",
      " 16  total intl minutes      3333 non-null   float64\n",
      " 17  total intl calls        3333 non-null   int64  \n",
      " 18  total intl charge       3333 non-null   float64\n",
      " 19  customer service calls  3333 non-null   int64  \n",
      " 20  churn                   3333 non-null   bool   \n",
      "dtypes: bool(1), float64(8), int64(8), object(4)\n",
      "memory usage: 524.2+ KB\n"
     ]
    }
   ],
   "source": [
    "#viewing data summary\n",
    "df.info()"
   ]
  },
  {
   "cell_type": "markdown",
   "metadata": {},
   "source": [
    "As seen above the dataset does not contain any missing values.\n"
   ]
  },
  {
   "cell_type": "code",
   "execution_count": 6,
   "metadata": {},
   "outputs": [
    {
     "data": {
      "text/html": [
       "<div>\n",
       "<style scoped>\n",
       "    .dataframe tbody tr th:only-of-type {\n",
       "        vertical-align: middle;\n",
       "    }\n",
       "\n",
       "    .dataframe tbody tr th {\n",
       "        vertical-align: top;\n",
       "    }\n",
       "\n",
       "    .dataframe thead th {\n",
       "        text-align: right;\n",
       "    }\n",
       "</style>\n",
       "<table border=\"1\" class=\"dataframe\">\n",
       "  <thead>\n",
       "    <tr style=\"text-align: right;\">\n",
       "      <th></th>\n",
       "      <th>state</th>\n",
       "      <th>account length</th>\n",
       "      <th>area code</th>\n",
       "      <th>phone number</th>\n",
       "      <th>international plan</th>\n",
       "      <th>voice mail plan</th>\n",
       "      <th>number vmail messages</th>\n",
       "      <th>total day minutes</th>\n",
       "      <th>total day calls</th>\n",
       "      <th>total day charge</th>\n",
       "      <th>...</th>\n",
       "      <th>total eve calls</th>\n",
       "      <th>total eve charge</th>\n",
       "      <th>total night minutes</th>\n",
       "      <th>total night calls</th>\n",
       "      <th>total night charge</th>\n",
       "      <th>total intl minutes</th>\n",
       "      <th>total intl calls</th>\n",
       "      <th>total intl charge</th>\n",
       "      <th>customer service calls</th>\n",
       "      <th>churn</th>\n",
       "    </tr>\n",
       "  </thead>\n",
       "  <tbody>\n",
       "  </tbody>\n",
       "</table>\n",
       "<p>0 rows × 21 columns</p>\n",
       "</div>"
      ],
      "text/plain": [
       "Empty DataFrame\n",
       "Columns: [state, account length, area code, phone number, international plan, voice mail plan, number vmail messages, total day minutes, total day calls, total day charge, total eve minutes, total eve calls, total eve charge, total night minutes, total night calls, total night charge, total intl minutes, total intl calls, total intl charge, customer service calls, churn]\n",
       "Index: []\n",
       "\n",
       "[0 rows x 21 columns]"
      ]
     },
     "execution_count": 6,
     "metadata": {},
     "output_type": "execute_result"
    }
   ],
   "source": [
    "#checking for duplicates\n",
    "df[df.duplicated(subset=['phone number'])].sort_values(['phone number'])"
   ]
  },
  {
   "cell_type": "markdown",
   "metadata": {},
   "source": [
    "The dataset seems to not contain duplicate values."
   ]
  },
  {
   "cell_type": "code",
   "execution_count": 7,
   "metadata": {},
   "outputs": [
    {
     "data": {
      "text/html": [
       "<div>\n",
       "<style scoped>\n",
       "    .dataframe tbody tr th:only-of-type {\n",
       "        vertical-align: middle;\n",
       "    }\n",
       "\n",
       "    .dataframe tbody tr th {\n",
       "        vertical-align: top;\n",
       "    }\n",
       "\n",
       "    .dataframe thead th {\n",
       "        text-align: right;\n",
       "    }\n",
       "</style>\n",
       "<table border=\"1\" class=\"dataframe\">\n",
       "  <thead>\n",
       "    <tr style=\"text-align: right;\">\n",
       "      <th></th>\n",
       "      <th>account length</th>\n",
       "      <th>area code</th>\n",
       "      <th>number vmail messages</th>\n",
       "      <th>total day minutes</th>\n",
       "      <th>total day calls</th>\n",
       "      <th>total day charge</th>\n",
       "      <th>total eve minutes</th>\n",
       "      <th>total eve calls</th>\n",
       "      <th>total eve charge</th>\n",
       "      <th>total night minutes</th>\n",
       "      <th>total night calls</th>\n",
       "      <th>total night charge</th>\n",
       "      <th>total intl minutes</th>\n",
       "      <th>total intl calls</th>\n",
       "      <th>total intl charge</th>\n",
       "      <th>customer service calls</th>\n",
       "    </tr>\n",
       "  </thead>\n",
       "  <tbody>\n",
       "    <tr>\n",
       "      <th>count</th>\n",
       "      <td>3333.000000</td>\n",
       "      <td>3333.000000</td>\n",
       "      <td>3333.000000</td>\n",
       "      <td>3333.000000</td>\n",
       "      <td>3333.000000</td>\n",
       "      <td>3333.000000</td>\n",
       "      <td>3333.000000</td>\n",
       "      <td>3333.000000</td>\n",
       "      <td>3333.000000</td>\n",
       "      <td>3333.000000</td>\n",
       "      <td>3333.000000</td>\n",
       "      <td>3333.000000</td>\n",
       "      <td>3333.000000</td>\n",
       "      <td>3333.000000</td>\n",
       "      <td>3333.000000</td>\n",
       "      <td>3333.000000</td>\n",
       "    </tr>\n",
       "    <tr>\n",
       "      <th>mean</th>\n",
       "      <td>101.064806</td>\n",
       "      <td>437.182418</td>\n",
       "      <td>8.099010</td>\n",
       "      <td>179.775098</td>\n",
       "      <td>100.435644</td>\n",
       "      <td>30.562307</td>\n",
       "      <td>200.980348</td>\n",
       "      <td>100.114311</td>\n",
       "      <td>17.083540</td>\n",
       "      <td>200.872037</td>\n",
       "      <td>100.107711</td>\n",
       "      <td>9.039325</td>\n",
       "      <td>10.237294</td>\n",
       "      <td>4.479448</td>\n",
       "      <td>2.764581</td>\n",
       "      <td>1.562856</td>\n",
       "    </tr>\n",
       "    <tr>\n",
       "      <th>std</th>\n",
       "      <td>39.822106</td>\n",
       "      <td>42.371290</td>\n",
       "      <td>13.688365</td>\n",
       "      <td>54.467389</td>\n",
       "      <td>20.069084</td>\n",
       "      <td>9.259435</td>\n",
       "      <td>50.713844</td>\n",
       "      <td>19.922625</td>\n",
       "      <td>4.310668</td>\n",
       "      <td>50.573847</td>\n",
       "      <td>19.568609</td>\n",
       "      <td>2.275873</td>\n",
       "      <td>2.791840</td>\n",
       "      <td>2.461214</td>\n",
       "      <td>0.753773</td>\n",
       "      <td>1.315491</td>\n",
       "    </tr>\n",
       "    <tr>\n",
       "      <th>min</th>\n",
       "      <td>1.000000</td>\n",
       "      <td>408.000000</td>\n",
       "      <td>0.000000</td>\n",
       "      <td>0.000000</td>\n",
       "      <td>0.000000</td>\n",
       "      <td>0.000000</td>\n",
       "      <td>0.000000</td>\n",
       "      <td>0.000000</td>\n",
       "      <td>0.000000</td>\n",
       "      <td>23.200000</td>\n",
       "      <td>33.000000</td>\n",
       "      <td>1.040000</td>\n",
       "      <td>0.000000</td>\n",
       "      <td>0.000000</td>\n",
       "      <td>0.000000</td>\n",
       "      <td>0.000000</td>\n",
       "    </tr>\n",
       "    <tr>\n",
       "      <th>25%</th>\n",
       "      <td>74.000000</td>\n",
       "      <td>408.000000</td>\n",
       "      <td>0.000000</td>\n",
       "      <td>143.700000</td>\n",
       "      <td>87.000000</td>\n",
       "      <td>24.430000</td>\n",
       "      <td>166.600000</td>\n",
       "      <td>87.000000</td>\n",
       "      <td>14.160000</td>\n",
       "      <td>167.000000</td>\n",
       "      <td>87.000000</td>\n",
       "      <td>7.520000</td>\n",
       "      <td>8.500000</td>\n",
       "      <td>3.000000</td>\n",
       "      <td>2.300000</td>\n",
       "      <td>1.000000</td>\n",
       "    </tr>\n",
       "    <tr>\n",
       "      <th>50%</th>\n",
       "      <td>101.000000</td>\n",
       "      <td>415.000000</td>\n",
       "      <td>0.000000</td>\n",
       "      <td>179.400000</td>\n",
       "      <td>101.000000</td>\n",
       "      <td>30.500000</td>\n",
       "      <td>201.400000</td>\n",
       "      <td>100.000000</td>\n",
       "      <td>17.120000</td>\n",
       "      <td>201.200000</td>\n",
       "      <td>100.000000</td>\n",
       "      <td>9.050000</td>\n",
       "      <td>10.300000</td>\n",
       "      <td>4.000000</td>\n",
       "      <td>2.780000</td>\n",
       "      <td>1.000000</td>\n",
       "    </tr>\n",
       "    <tr>\n",
       "      <th>75%</th>\n",
       "      <td>127.000000</td>\n",
       "      <td>510.000000</td>\n",
       "      <td>20.000000</td>\n",
       "      <td>216.400000</td>\n",
       "      <td>114.000000</td>\n",
       "      <td>36.790000</td>\n",
       "      <td>235.300000</td>\n",
       "      <td>114.000000</td>\n",
       "      <td>20.000000</td>\n",
       "      <td>235.300000</td>\n",
       "      <td>113.000000</td>\n",
       "      <td>10.590000</td>\n",
       "      <td>12.100000</td>\n",
       "      <td>6.000000</td>\n",
       "      <td>3.270000</td>\n",
       "      <td>2.000000</td>\n",
       "    </tr>\n",
       "    <tr>\n",
       "      <th>max</th>\n",
       "      <td>243.000000</td>\n",
       "      <td>510.000000</td>\n",
       "      <td>51.000000</td>\n",
       "      <td>350.800000</td>\n",
       "      <td>165.000000</td>\n",
       "      <td>59.640000</td>\n",
       "      <td>363.700000</td>\n",
       "      <td>170.000000</td>\n",
       "      <td>30.910000</td>\n",
       "      <td>395.000000</td>\n",
       "      <td>175.000000</td>\n",
       "      <td>17.770000</td>\n",
       "      <td>20.000000</td>\n",
       "      <td>20.000000</td>\n",
       "      <td>5.400000</td>\n",
       "      <td>9.000000</td>\n",
       "    </tr>\n",
       "  </tbody>\n",
       "</table>\n",
       "</div>"
      ],
      "text/plain": [
       "       account length    area code  number vmail messages  total day minutes  \\\n",
       "count     3333.000000  3333.000000            3333.000000        3333.000000   \n",
       "mean       101.064806   437.182418               8.099010         179.775098   \n",
       "std         39.822106    42.371290              13.688365          54.467389   \n",
       "min          1.000000   408.000000               0.000000           0.000000   \n",
       "25%         74.000000   408.000000               0.000000         143.700000   \n",
       "50%        101.000000   415.000000               0.000000         179.400000   \n",
       "75%        127.000000   510.000000              20.000000         216.400000   \n",
       "max        243.000000   510.000000              51.000000         350.800000   \n",
       "\n",
       "       total day calls  total day charge  total eve minutes  total eve calls  \\\n",
       "count      3333.000000       3333.000000        3333.000000      3333.000000   \n",
       "mean        100.435644         30.562307         200.980348       100.114311   \n",
       "std          20.069084          9.259435          50.713844        19.922625   \n",
       "min           0.000000          0.000000           0.000000         0.000000   \n",
       "25%          87.000000         24.430000         166.600000        87.000000   \n",
       "50%         101.000000         30.500000         201.400000       100.000000   \n",
       "75%         114.000000         36.790000         235.300000       114.000000   \n",
       "max         165.000000         59.640000         363.700000       170.000000   \n",
       "\n",
       "       total eve charge  total night minutes  total night calls  \\\n",
       "count       3333.000000          3333.000000        3333.000000   \n",
       "mean          17.083540           200.872037         100.107711   \n",
       "std            4.310668            50.573847          19.568609   \n",
       "min            0.000000            23.200000          33.000000   \n",
       "25%           14.160000           167.000000          87.000000   \n",
       "50%           17.120000           201.200000         100.000000   \n",
       "75%           20.000000           235.300000         113.000000   \n",
       "max           30.910000           395.000000         175.000000   \n",
       "\n",
       "       total night charge  total intl minutes  total intl calls  \\\n",
       "count         3333.000000         3333.000000       3333.000000   \n",
       "mean             9.039325           10.237294          4.479448   \n",
       "std              2.275873            2.791840          2.461214   \n",
       "min              1.040000            0.000000          0.000000   \n",
       "25%              7.520000            8.500000          3.000000   \n",
       "50%              9.050000           10.300000          4.000000   \n",
       "75%             10.590000           12.100000          6.000000   \n",
       "max             17.770000           20.000000         20.000000   \n",
       "\n",
       "       total intl charge  customer service calls  \n",
       "count        3333.000000             3333.000000  \n",
       "mean            2.764581                1.562856  \n",
       "std             0.753773                1.315491  \n",
       "min             0.000000                0.000000  \n",
       "25%             2.300000                1.000000  \n",
       "50%             2.780000                1.000000  \n",
       "75%             3.270000                2.000000  \n",
       "max             5.400000                9.000000  "
      ]
     },
     "execution_count": 7,
     "metadata": {},
     "output_type": "execute_result"
    }
   ],
   "source": [
    "#Summary statistics\n",
    "df.describe()"
   ]
  },
  {
   "cell_type": "code",
   "execution_count": 8,
   "metadata": {},
   "outputs": [
    {
     "name": "stdout",
     "output_type": "stream",
     "text": [
      "WV    106\n",
      "MN     84\n",
      "NY     83\n",
      "AL     80\n",
      "OH     78\n",
      "WI     78\n",
      "OR     78\n",
      "WY     77\n",
      "VA     77\n",
      "CT     74\n",
      "ID     73\n",
      "VT     73\n",
      "MI     73\n",
      "TX     72\n",
      "UT     72\n",
      "IN     71\n",
      "KS     70\n",
      "MD     70\n",
      "MT     68\n",
      "NJ     68\n",
      "NC     68\n",
      "WA     66\n",
      "CO     66\n",
      "NV     66\n",
      "MS     65\n",
      "MA     65\n",
      "RI     65\n",
      "AZ     64\n",
      "FL     63\n",
      "MO     63\n",
      "NM     62\n",
      "ME     62\n",
      "ND     62\n",
      "DE     61\n",
      "NE     61\n",
      "OK     61\n",
      "SD     60\n",
      "SC     60\n",
      "KY     59\n",
      "IL     58\n",
      "NH     56\n",
      "AR     55\n",
      "GA     54\n",
      "DC     54\n",
      "HI     53\n",
      "TN     53\n",
      "AK     52\n",
      "LA     51\n",
      "PA     45\n",
      "IA     44\n",
      "CA     34\n",
      "Name: state, dtype: int64\n",
      "105    43\n",
      "87     42\n",
      "93     40\n",
      "101    40\n",
      "90     39\n",
      "       ..\n",
      "191     1\n",
      "199     1\n",
      "215     1\n",
      "221     1\n",
      "2       1\n",
      "Name: account length, Length: 212, dtype: int64\n",
      "415    1655\n",
      "510     840\n",
      "408     838\n",
      "Name: area code, dtype: int64\n",
      "348-7556    1\n",
      "361-1900    1\n",
      "412-8811    1\n",
      "328-6011    1\n",
      "388-8583    1\n",
      "           ..\n",
      "340-9803    1\n",
      "368-3117    1\n",
      "336-4656    1\n",
      "404-3106    1\n",
      "389-3206    1\n",
      "Name: phone number, Length: 3333, dtype: int64\n",
      "no     3010\n",
      "yes     323\n",
      "Name: international plan, dtype: int64\n",
      "no     2411\n",
      "yes     922\n",
      "Name: voice mail plan, dtype: int64\n",
      "0     2411\n",
      "31      60\n",
      "29      53\n",
      "28      51\n",
      "33      46\n",
      "27      44\n",
      "30      44\n",
      "24      42\n",
      "26      41\n",
      "32      41\n",
      "25      37\n",
      "23      36\n",
      "36      34\n",
      "35      32\n",
      "22      32\n",
      "39      30\n",
      "37      29\n",
      "34      29\n",
      "21      28\n",
      "38      25\n",
      "20      22\n",
      "19      19\n",
      "40      16\n",
      "42      15\n",
      "17      14\n",
      "41      13\n",
      "16      13\n",
      "43       9\n",
      "15       9\n",
      "18       7\n",
      "44       7\n",
      "14       7\n",
      "45       6\n",
      "12       6\n",
      "46       4\n",
      "13       4\n",
      "47       3\n",
      "8        2\n",
      "48       2\n",
      "50       2\n",
      "9        2\n",
      "11       2\n",
      "49       1\n",
      "10       1\n",
      "4        1\n",
      "51       1\n",
      "Name: number vmail messages, dtype: int64\n",
      "174.5    8\n",
      "159.5    8\n",
      "154.0    8\n",
      "175.4    7\n",
      "162.3    7\n",
      "        ..\n",
      "199.9    1\n",
      "105.8    1\n",
      "125.6    1\n",
      "179.8    1\n",
      "270.8    1\n",
      "Name: total day minutes, Length: 1667, dtype: int64\n",
      "102    78\n",
      "105    75\n",
      "107    69\n",
      "95     69\n",
      "104    68\n",
      "       ..\n",
      "149     1\n",
      "157     1\n",
      "36      1\n",
      "30      1\n",
      "165     1\n",
      "Name: total day calls, Length: 119, dtype: int64\n",
      "27.12    8\n",
      "26.18    8\n",
      "29.67    8\n",
      "31.18    7\n",
      "27.59    7\n",
      "        ..\n",
      "19.36    1\n",
      "16.95    1\n",
      "34.12    1\n",
      "48.35    1\n",
      "13.28    1\n",
      "Name: total day charge, Length: 1667, dtype: int64\n",
      "169.9    9\n",
      "230.9    7\n",
      "209.4    7\n",
      "201.0    7\n",
      "220.6    7\n",
      "        ..\n",
      "335.0    1\n",
      "258.9    1\n",
      "134.7    1\n",
      "318.8    1\n",
      "317.2    1\n",
      "Name: total eve minutes, Length: 1611, dtype: int64\n",
      "105    80\n",
      "94     79\n",
      "108    71\n",
      "97     70\n",
      "102    70\n",
      "       ..\n",
      "45      1\n",
      "49      1\n",
      "145     1\n",
      "153     1\n",
      "0       1\n",
      "Name: total eve calls, Length: 123, dtype: int64\n",
      "14.25    11\n",
      "16.12    11\n",
      "15.90    10\n",
      "18.62     9\n",
      "14.44     9\n",
      "         ..\n",
      "12.64     1\n",
      "13.83     1\n",
      "11.39     1\n",
      "28.03     1\n",
      "20.53     1\n",
      "Name: total eve charge, Length: 1440, dtype: int64\n",
      "210.0    8\n",
      "214.6    8\n",
      "197.4    8\n",
      "191.4    8\n",
      "188.2    8\n",
      "        ..\n",
      "132.3    1\n",
      "306.2    1\n",
      "293.5    1\n",
      "271.7    1\n",
      "182.6    1\n",
      "Name: total night minutes, Length: 1591, dtype: int64\n",
      "105    84\n",
      "104    78\n",
      "91     76\n",
      "102    72\n",
      "100    69\n",
      "       ..\n",
      "164     1\n",
      "166     1\n",
      "33      1\n",
      "149     1\n",
      "36      1\n",
      "Name: total night calls, Length: 120, dtype: int64\n",
      "9.66     15\n",
      "9.45     15\n",
      "8.88     14\n",
      "8.47     14\n",
      "7.69     13\n",
      "         ..\n",
      "14.65     1\n",
      "6.46      1\n",
      "3.94      1\n",
      "15.74     1\n",
      "6.14      1\n",
      "Name: total night charge, Length: 933, dtype: int64\n",
      "10.0    62\n",
      "11.3    59\n",
      "9.8     56\n",
      "10.9    56\n",
      "10.1    53\n",
      "        ..\n",
      "18.9     1\n",
      "1.3      1\n",
      "2.7      1\n",
      "2.6      1\n",
      "3.1      1\n",
      "Name: total intl minutes, Length: 162, dtype: int64\n",
      "3     668\n",
      "4     619\n",
      "2     489\n",
      "5     472\n",
      "6     336\n",
      "7     218\n",
      "1     160\n",
      "8     116\n",
      "9     109\n",
      "10     50\n",
      "11     28\n",
      "0      18\n",
      "12     15\n",
      "13     14\n",
      "15      7\n",
      "14      6\n",
      "18      3\n",
      "16      2\n",
      "19      1\n",
      "17      1\n",
      "20      1\n",
      "Name: total intl calls, dtype: int64\n",
      "2.70    62\n",
      "3.05    59\n",
      "2.65    56\n",
      "2.94    56\n",
      "2.73    53\n",
      "        ..\n",
      "0.68     1\n",
      "4.83     1\n",
      "0.84     1\n",
      "0.30     1\n",
      "5.40     1\n",
      "Name: total intl charge, Length: 162, dtype: int64\n",
      "1    1181\n",
      "2     759\n",
      "0     697\n",
      "3     429\n",
      "4     166\n",
      "5      66\n",
      "6      22\n",
      "7       9\n",
      "9       2\n",
      "8       2\n",
      "Name: customer service calls, dtype: int64\n",
      "False    2850\n",
      "True      483\n",
      "Name: churn, dtype: int64\n"
     ]
    }
   ],
   "source": [
    "#Checking for the unique variables in the respective columns\n",
    "for col in df.columns:\n",
    "    print(df[col].value_counts())"
   ]
  },
  {
   "cell_type": "code",
   "execution_count": 9,
   "metadata": {},
   "outputs": [
    {
     "data": {
      "text/plain": [
       "Index(['state', 'account length', 'area code', 'phone number',\n",
       "       'international plan', 'voice mail plan', 'number vmail messages',\n",
       "       'total day minutes', 'total day calls', 'total day charge',\n",
       "       'total eve minutes', 'total eve calls', 'total eve charge',\n",
       "       'total night minutes', 'total night calls', 'total night charge',\n",
       "       'total intl minutes', 'total intl calls', 'total intl charge',\n",
       "       'customer service calls', 'churn'],\n",
       "      dtype='object')"
      ]
     },
     "execution_count": 9,
     "metadata": {},
     "output_type": "execute_result"
    }
   ],
   "source": [
    "df.columns"
   ]
  },
  {
   "cell_type": "markdown",
   "metadata": {},
   "source": [
    "#### Below is a summary of features found in the data set"
   ]
  },
  {
   "cell_type": "markdown",
   "metadata": {},
   "source": [
    "state: the state the customer lives in\n",
    "\n",
    "account length: the number of days the customer has had an account\n",
    "\n",
    "area code: the area code of the customer\n",
    "\n",
    "phone number: the phone number of the customer\n",
    "\n",
    "international plan: true if the customer has the international plan, otherwise false\n",
    "\n",
    "voice mail plan: true if the customer has the voice mail plan, otherwise false\n",
    "\n",
    "number vmail messages: the number of voicemails the customer has sent\n",
    "\n",
    "total day minutes: total number of minutes the customer has been in calls during the day\n",
    "\n",
    "total day calls: total number of calls the user has done during the day\n",
    "\n",
    "total day charge: total amount of money the customer was charged by the Telecom company for calls during the day\n",
    "\n",
    "total eve minutes: total number of minutes the customer has been in calls during the evening\n",
    "\n",
    "total eve calls: total number of calls the customer has done during the evening\n",
    "\n",
    "total eve charge: total amount of money the customer was charged by the Telecom company for calls during the evening\n",
    "\n",
    "total night minutes: total number of minutes the customer has been in calls during the night\n",
    "\n",
    "total night calls: total number of calls the customer has done during the night\n",
    "\n",
    "total night charge: total amount of money the customer was charged by the Telecom company for calls during the night\n",
    "\n",
    "total intl minutes: total number of minutes the user has been in international calls\n",
    "\n",
    "total intl calls: total number of international calls the customer has done\n",
    "\n",
    "total intl charge: total amount of money the customer was charged by the Telecom company for international calls\n",
    "\n",
    "customer service calls: number of calls the customer has made to customer service\n",
    "\n",
    "churn: true if the customer terminated their contract, otherwise false"
   ]
  },
  {
   "cell_type": "markdown",
   "metadata": {},
   "source": [
    "## Data Exploration and Preparation"
   ]
  },
  {
   "cell_type": "code",
   "execution_count": 10,
   "metadata": {},
   "outputs": [
    {
     "data": {
      "text/plain": [
       "Index(['state', 'account length', 'area code', 'phone number',\n",
       "       'international plan', 'voice mail plan', 'number vmail messages',\n",
       "       'total day minutes', 'total day calls', 'total day charge',\n",
       "       'total eve minutes', 'total eve calls', 'total eve charge',\n",
       "       'total night minutes', 'total night calls', 'total night charge',\n",
       "       'total intl minutes', 'total intl calls', 'total intl charge',\n",
       "       'customer service calls', 'churn'],\n",
       "      dtype='object')"
      ]
     },
     "execution_count": 10,
     "metadata": {},
     "output_type": "execute_result"
    }
   ],
   "source": [
    "df.columns"
   ]
  },
  {
   "cell_type": "code",
   "execution_count": 11,
   "metadata": {},
   "outputs": [
    {
     "data": {
      "text/html": [
       "<div>\n",
       "<style scoped>\n",
       "    .dataframe tbody tr th:only-of-type {\n",
       "        vertical-align: middle;\n",
       "    }\n",
       "\n",
       "    .dataframe tbody tr th {\n",
       "        vertical-align: top;\n",
       "    }\n",
       "\n",
       "    .dataframe thead th {\n",
       "        text-align: right;\n",
       "    }\n",
       "</style>\n",
       "<table border=\"1\" class=\"dataframe\">\n",
       "  <thead>\n",
       "    <tr style=\"text-align: right;\">\n",
       "      <th></th>\n",
       "      <th>state</th>\n",
       "      <th>account_length</th>\n",
       "      <th>area_code</th>\n",
       "      <th>phone_number</th>\n",
       "      <th>international_plan</th>\n",
       "      <th>voice_mail_plan</th>\n",
       "      <th>number_vmail_messages</th>\n",
       "      <th>total_day_minutes</th>\n",
       "      <th>total_day_calls</th>\n",
       "      <th>total_day_charge</th>\n",
       "      <th>...</th>\n",
       "      <th>total_eve_calls</th>\n",
       "      <th>total_eve_charge</th>\n",
       "      <th>total_night_minutes</th>\n",
       "      <th>total_night_calls</th>\n",
       "      <th>total_night_charge</th>\n",
       "      <th>total_intl_minutes</th>\n",
       "      <th>total_intl_calls</th>\n",
       "      <th>total_intl_charge</th>\n",
       "      <th>customer_service_calls</th>\n",
       "      <th>churn</th>\n",
       "    </tr>\n",
       "  </thead>\n",
       "  <tbody>\n",
       "    <tr>\n",
       "      <th>0</th>\n",
       "      <td>KS</td>\n",
       "      <td>128</td>\n",
       "      <td>415</td>\n",
       "      <td>382-4657</td>\n",
       "      <td>no</td>\n",
       "      <td>yes</td>\n",
       "      <td>25</td>\n",
       "      <td>265.1</td>\n",
       "      <td>110</td>\n",
       "      <td>45.07</td>\n",
       "      <td>...</td>\n",
       "      <td>99</td>\n",
       "      <td>16.78</td>\n",
       "      <td>244.7</td>\n",
       "      <td>91</td>\n",
       "      <td>11.01</td>\n",
       "      <td>10.0</td>\n",
       "      <td>3</td>\n",
       "      <td>2.7</td>\n",
       "      <td>1</td>\n",
       "      <td>False</td>\n",
       "    </tr>\n",
       "    <tr>\n",
       "      <th>1</th>\n",
       "      <td>OH</td>\n",
       "      <td>107</td>\n",
       "      <td>415</td>\n",
       "      <td>371-7191</td>\n",
       "      <td>no</td>\n",
       "      <td>yes</td>\n",
       "      <td>26</td>\n",
       "      <td>161.6</td>\n",
       "      <td>123</td>\n",
       "      <td>27.47</td>\n",
       "      <td>...</td>\n",
       "      <td>103</td>\n",
       "      <td>16.62</td>\n",
       "      <td>254.4</td>\n",
       "      <td>103</td>\n",
       "      <td>11.45</td>\n",
       "      <td>13.7</td>\n",
       "      <td>3</td>\n",
       "      <td>3.7</td>\n",
       "      <td>1</td>\n",
       "      <td>False</td>\n",
       "    </tr>\n",
       "  </tbody>\n",
       "</table>\n",
       "<p>2 rows × 21 columns</p>\n",
       "</div>"
      ],
      "text/plain": [
       "  state  account_length  area_code phone_number international_plan  \\\n",
       "0    KS             128        415     382-4657                 no   \n",
       "1    OH             107        415     371-7191                 no   \n",
       "\n",
       "  voice_mail_plan  number_vmail_messages  total_day_minutes  total_day_calls  \\\n",
       "0             yes                     25              265.1              110   \n",
       "1             yes                     26              161.6              123   \n",
       "\n",
       "   total_day_charge  ...  total_eve_calls  total_eve_charge  \\\n",
       "0             45.07  ...               99             16.78   \n",
       "1             27.47  ...              103             16.62   \n",
       "\n",
       "   total_night_minutes  total_night_calls  total_night_charge  \\\n",
       "0                244.7                 91               11.01   \n",
       "1                254.4                103               11.45   \n",
       "\n",
       "   total_intl_minutes  total_intl_calls  total_intl_charge  \\\n",
       "0                10.0                 3                2.7   \n",
       "1                13.7                 3                3.7   \n",
       "\n",
       "   customer_service_calls  churn  \n",
       "0                       1  False  \n",
       "1                       1  False  \n",
       "\n",
       "[2 rows x 21 columns]"
      ]
     },
     "execution_count": 11,
     "metadata": {},
     "output_type": "execute_result"
    }
   ],
   "source": [
    "#cleaning the columns in the data set\n",
    "df.columns = [col.strip().replace(' ', '_')for col in df.columns]\n",
    "df.head(2)"
   ]
  },
  {
   "cell_type": "code",
   "execution_count": 12,
   "metadata": {},
   "outputs": [
    {
     "data": {
      "text/html": [
       "<div>\n",
       "<style scoped>\n",
       "    .dataframe tbody tr th:only-of-type {\n",
       "        vertical-align: middle;\n",
       "    }\n",
       "\n",
       "    .dataframe tbody tr th {\n",
       "        vertical-align: top;\n",
       "    }\n",
       "\n",
       "    .dataframe thead th {\n",
       "        text-align: right;\n",
       "    }\n",
       "</style>\n",
       "<table border=\"1\" class=\"dataframe\">\n",
       "  <thead>\n",
       "    <tr style=\"text-align: right;\">\n",
       "      <th></th>\n",
       "      <th>state</th>\n",
       "      <th>area_code</th>\n",
       "      <th>international_plan</th>\n",
       "      <th>voice_mail_plan</th>\n",
       "      <th>number_vmail_messages</th>\n",
       "      <th>total_day_minutes</th>\n",
       "      <th>total_day_calls</th>\n",
       "      <th>total_day_charge</th>\n",
       "      <th>total_eve_minutes</th>\n",
       "      <th>total_eve_calls</th>\n",
       "      <th>total_eve_charge</th>\n",
       "      <th>total_night_minutes</th>\n",
       "      <th>total_night_calls</th>\n",
       "      <th>total_night_charge</th>\n",
       "      <th>total_intl_minutes</th>\n",
       "      <th>total_intl_calls</th>\n",
       "      <th>total_intl_charge</th>\n",
       "      <th>customer_service_calls</th>\n",
       "      <th>churn</th>\n",
       "    </tr>\n",
       "  </thead>\n",
       "  <tbody>\n",
       "    <tr>\n",
       "      <th>0</th>\n",
       "      <td>KS</td>\n",
       "      <td>415</td>\n",
       "      <td>no</td>\n",
       "      <td>yes</td>\n",
       "      <td>25</td>\n",
       "      <td>265.1</td>\n",
       "      <td>110</td>\n",
       "      <td>45.07</td>\n",
       "      <td>197.4</td>\n",
       "      <td>99</td>\n",
       "      <td>16.78</td>\n",
       "      <td>244.7</td>\n",
       "      <td>91</td>\n",
       "      <td>11.01</td>\n",
       "      <td>10.0</td>\n",
       "      <td>3</td>\n",
       "      <td>2.7</td>\n",
       "      <td>1</td>\n",
       "      <td>False</td>\n",
       "    </tr>\n",
       "    <tr>\n",
       "      <th>1</th>\n",
       "      <td>OH</td>\n",
       "      <td>415</td>\n",
       "      <td>no</td>\n",
       "      <td>yes</td>\n",
       "      <td>26</td>\n",
       "      <td>161.6</td>\n",
       "      <td>123</td>\n",
       "      <td>27.47</td>\n",
       "      <td>195.5</td>\n",
       "      <td>103</td>\n",
       "      <td>16.62</td>\n",
       "      <td>254.4</td>\n",
       "      <td>103</td>\n",
       "      <td>11.45</td>\n",
       "      <td>13.7</td>\n",
       "      <td>3</td>\n",
       "      <td>3.7</td>\n",
       "      <td>1</td>\n",
       "      <td>False</td>\n",
       "    </tr>\n",
       "  </tbody>\n",
       "</table>\n",
       "</div>"
      ],
      "text/plain": [
       "  state  area_code international_plan voice_mail_plan  number_vmail_messages  \\\n",
       "0    KS        415                 no             yes                     25   \n",
       "1    OH        415                 no             yes                     26   \n",
       "\n",
       "   total_day_minutes  total_day_calls  total_day_charge  total_eve_minutes  \\\n",
       "0              265.1              110             45.07              197.4   \n",
       "1              161.6              123             27.47              195.5   \n",
       "\n",
       "   total_eve_calls  total_eve_charge  total_night_minutes  total_night_calls  \\\n",
       "0               99             16.78                244.7                 91   \n",
       "1              103             16.62                254.4                103   \n",
       "\n",
       "   total_night_charge  total_intl_minutes  total_intl_calls  \\\n",
       "0               11.01                10.0                 3   \n",
       "1               11.45                13.7                 3   \n",
       "\n",
       "   total_intl_charge  customer_service_calls  churn  \n",
       "0                2.7                       1  False  \n",
       "1                3.7                       1  False  "
      ]
     },
     "execution_count": 12,
     "metadata": {},
     "output_type": "execute_result"
    }
   ],
   "source": [
    "#the phone_number and account_length feature will be dropped since it has no value in the analysis\n",
    "df = df.drop(columns=['phone_number', 'account_length'] )\n",
    "#checking if the code worked\n",
    "df.head(2)"
   ]
  },
  {
   "cell_type": "code",
   "execution_count": 13,
   "metadata": {},
   "outputs": [
    {
     "data": {
      "text/plain": [
       "False    2850\n",
       "True      483\n",
       "Name: churn, dtype: int64"
      ]
     },
     "execution_count": 13,
     "metadata": {},
     "output_type": "execute_result"
    }
   ],
   "source": [
    "#checking unique values in the churn column which is our target variable\n",
    "df['churn'].value_counts()"
   ]
  },
  {
   "cell_type": "code",
   "execution_count": 14,
   "metadata": {},
   "outputs": [
    {
     "data": {
      "text/plain": [
       "0    2850\n",
       "1     483\n",
       "Name: churn, dtype: int64"
      ]
     },
     "execution_count": 14,
     "metadata": {},
     "output_type": "execute_result"
    }
   ],
   "source": [
    "#converting the churn column to binary(0s and 1s)\n",
    "df['churn'] = [1 if x==True else 0 for x in df['churn']]\n",
    "df['churn'].value_counts()"
   ]
  },
  {
   "cell_type": "code",
   "execution_count": 15,
   "metadata": {},
   "outputs": [
    {
     "data": {
      "text/plain": [
       "dtype('int64')"
      ]
     },
     "execution_count": 15,
     "metadata": {},
     "output_type": "execute_result"
    }
   ],
   "source": [
    "#checking if the data type changed to int\n",
    "df['churn'].dtype"
   ]
  },
  {
   "cell_type": "markdown",
   "metadata": {},
   "source": [
    "In the above code, we have transformed the values within the 'churn' column of the dataset. Specifically, we converted 'False' values to '0' and 'True' values to '1'. This transformation represents the churn status of customers at Syriatel, where '1' indicates customers who churned, and '0' represents those who did not. Out of the total 3,333 customers, 483 chose to discontinue their contract with Syriatel.\n",
    "This binary format in the 'churn' column is essential because it will serve as the target variable in our future predictive models. This transformation simplifies the task of classification, where our goal is to predict whether a customer will churn or not. With the 'churn' column now containing binary values, our models can efficiently learn and make predictions based on this categorical outcome, enabling us to anticipate customer churn more effectively."
   ]
  },
  {
   "cell_type": "code",
   "execution_count": 16,
   "metadata": {},
   "outputs": [
    {
     "data": {
      "image/png": "[encoded data removed]",
      "text/plain": [
       "<Figure size 432x288 with 1 Axes>"
      ]
     },
     "metadata": {},
     "output_type": "display_data"
    }
   ],
   "source": [
    "#visually representing the distribution\n",
    "custom_palette = [\"#0000ff\", \"#1df1d3\"] \n",
    "sns.set(style='whitegrid')\n",
    "sns.countplot(data=df, x='churn', palette=custom_palette);"
   ]
  },
  {
   "cell_type": "code",
   "execution_count": 17,
   "metadata": {},
   "outputs": [
    {
     "data": {
      "image/png": "[encoded data removed]",
      "text/plain": [
       "<Figure size 576x576 with 1 Axes>"
      ]
     },
     "metadata": {},
     "output_type": "display_data"
    }
   ],
   "source": [
    "#Using a pie-chart to represent churn in percentage\n",
    "df['churn'].value_counts().plot.pie(explode=[0.05,0.05], autopct='%1.1f%%', startangle=90, shadow=True, figsize=(8,8))\n",
    "plt.title('Pie Chart for Churn')\n",
    "plt.show()"
   ]
  },
  {
   "cell_type": "markdown",
   "metadata": {},
   "source": [
    "Based on the pie chart above, it's evident that 14.5% of the customers chose to terminate their contracts with SyriaTel."
   ]
  },
  {
   "cell_type": "code",
   "execution_count": 18,
   "metadata": {},
   "outputs": [
    {
     "name": "stdout",
     "output_type": "stream",
     "text": [
      "Numerical features: ['number_vmail_messages', 'total_day_minutes', 'total_day_calls', 'total_day_charge', 'total_eve_minutes', 'total_eve_calls', 'total_eve_charge', 'total_night_minutes', 'total_night_calls', 'total_night_charge', 'total_intl_minutes', 'total_intl_calls', 'total_intl_charge', 'customer_service_calls']\n",
      "Categorical features: ['state', 'area_code', 'international_plan', 'voice_mail_plan']\n"
     ]
    }
   ],
   "source": [
    "#splitting the features to numerical and categorical features\n",
    "cat_features = ['state', 'area_code', 'international_plan', 'voice_mail_plan']\n",
    "num_features = [x for x in df.columns if x not in  cat_features and x != 'churn']\n",
    "print('Numerical features:', num_features)\n",
    "print('Categorical features:', cat_features)\n"
   ]
  },
  {
   "cell_type": "markdown",
   "metadata": {},
   "source": [
    "Next i will make distribution plots for some of the numerical features."
   ]
  },
  {
   "cell_type": "code",
   "execution_count": 19,
   "metadata": {},
   "outputs": [
    {
     "data": {
      "image/png": "[encoded data removed]",
      "text/plain": [
       "<Figure size 864x720 with 16 Axes>"
      ]
     },
     "metadata": {},
     "output_type": "display_data"
    }
   ],
   "source": [
    "num = df[num_features]\n",
    "num.head()\n",
    "hist = num.hist(bins=50,figsize  = [12, 10])\n",
    "# Create a Matplotlib figure object\n",
    "fig = plt.gcf()\n",
    "\n",
    "# Save the figure to a file (e.g., in PNG format)\n",
    "fig.savefig(\"./images/distribution.png\")\n",
    "\n",
    "# Optionally, display the figure\n",
    "plt.show()"
   ]
  },
  {
   "cell_type": "markdown",
   "metadata": {},
   "source": [
    "The distribution plots reveal that the majority of numerical features follow a normal distribution, except for 'customer_service_calls' and 'number_vmail_messages.' However, it's important to note that the distribution of 'total_int_calls' is also somewhat normal, albeit slightly skewed to the right side."
   ]
  },
  {
   "cell_type": "markdown",
   "metadata": {},
   "source": [
    "Next i will check for the churn distribution in the categorical features.\n"
   ]
  },
  {
   "cell_type": "code",
   "execution_count": 20,
   "metadata": {},
   "outputs": [
    {
     "data": {
      "image/png": "[encoded data removed]",
      "text/plain": [
       "<Figure size 720x288 with 1 Axes>"
      ]
     },
     "metadata": {},
     "output_type": "display_data"
    },
    {
     "data": {
      "image/png": "[encoded data removed]",
      "text/plain": [
       "<Figure size 720x288 with 1 Axes>"
      ]
     },
     "metadata": {},
     "output_type": "display_data"
    },
    {
     "data": {
      "image/png": "[encoded data removed]",
      "text/plain": [
       "<Figure size 720x288 with 1 Axes>"
      ]
     },
     "metadata": {},
     "output_type": "display_data"
    },
    {
     "data": {
      "image/png": "[encoded data removed]",
      "text/plain": [
       "<Figure size 720x288 with 1 Axes>"
      ]
     },
     "metadata": {},
     "output_type": "display_data"
    }
   ],
   "source": [
    "cat =df[cat_features]\n",
    "for column in cat.columns:\n",
    "    plt.figure(figsize=(10, 4))\n",
    "    sns.countplot(x=column, hue=\"churn\", data=df, order=df[column].value_counts().iloc[0:15].index)\n",
    "    plt.xticks(rotation=90)\n",
    "    plt.legend(loc=\"upper right\")\n",
    "    plt.title(f'Churn Distribution for {column}')\n",
    "    plt.savefig(f'churn_distribution_{column}.png')\n",
    "    plt.show()"
   ]
  },
  {
   "cell_type": "markdown",
   "metadata": {},
   "source": [
    "### Correlation Heatmap for the features"
   ]
  },
  {
   "cell_type": "code",
   "execution_count": 21,
   "metadata": {},
   "outputs": [
    {
     "data": {
      "image/png": "[encoded data removed]",
      "text/plain": [
       "<Figure size 1080x864 with 2 Axes>"
      ]
     },
     "metadata": {},
     "output_type": "display_data"
    }
   ],
   "source": [
    "# Calculate the correlation matrix\n",
    "correlation_matrix = df.corr()\n",
    "\n",
    "# Set the figure size to accommodate all features\n",
    "plt.figure(figsize=(15, 12))\n",
    "\n",
    "# Create the correlation heatmap\n",
    "sns.heatmap(correlation_matrix, annot=True, fmt=\".2f\", cmap='BuPu')\n",
    "\n",
    "plt.savefig(fname='./images/correlation.png', facecolor='white')\n",
    "# Show the plot\n",
    "plt.show()"
   ]
  },
  {
   "cell_type": "markdown",
   "metadata": {},
   "source": [
    "Many of the features in the dataset exhibit little to no correlation with each other, except for some pairs that show a perfect correlation of 1. These pairs with perfect correlation include:\n",
    "\n",
    "* Total day charge and total day minutes\n",
    "* Total evening charge and total evening minutes\n",
    "* Total night charge and total night minutes\n",
    "* Total international charge and total international minutes\n",
    "\n",
    "This high correlation between charge and minutes is expected, as the charge for each category is directly dependent on the number of minutes used. The perfect correlation, indicated by a correlation coefficient of 1, is a sign of perfect multicollinearity. In the context of linear models, perfect multicollinearity can cause issues, but its impact on nonlinear models may vary. While some nonlinear models are affected by perfect multicollinearity, others may not be as sensitive to it.\n",
    "\n",
    "\n",
    "\n",
    "\n",
    "\n"
   ]
  },
  {
   "cell_type": "markdown",
   "metadata": {},
   "source": [
    "### One hot encoding the categorical variables"
   ]
  },
  {
   "cell_type": "markdown",
   "metadata": {},
   "source": [
    "Before applying one-hot encoding to the categorical features, I considered using label encoding for the 'state' column. One-hot encoding, in this case, would create numerous dummy variables, potentially leading to issues with high dimensionality. Additionally, it could pose challenges for some nonlinear models that might not perform well.\n",
    "\n",
    "The LabelEncoder is a data preprocessing technique that will be used to convert the 'state' categorical feature into numerical values. It assigns a unique integer to each category within the 'state' feature, enabling machine learning algorithms to work with the data more effectively.\n",
    "\n",
    "In contrast, One-Hot encoding transforms the remaining categorical features into binary dummy variables, represented by 0s and 1s. This technique creates a separate binary column for each category within a feature, indicating the presence or absence of that category for each data point.\n"
   ]
  },
  {
   "cell_type": "code",
   "execution_count": 22,
   "metadata": {},
   "outputs": [
    {
     "data": {
      "text/html": [
       "<div>\n",
       "<style scoped>\n",
       "    .dataframe tbody tr th:only-of-type {\n",
       "        vertical-align: middle;\n",
       "    }\n",
       "\n",
       "    .dataframe tbody tr th {\n",
       "        vertical-align: top;\n",
       "    }\n",
       "\n",
       "    .dataframe thead th {\n",
       "        text-align: right;\n",
       "    }\n",
       "</style>\n",
       "<table border=\"1\" class=\"dataframe\">\n",
       "  <thead>\n",
       "    <tr style=\"text-align: right;\">\n",
       "      <th></th>\n",
       "      <th>state</th>\n",
       "      <th>area_code</th>\n",
       "      <th>international_plan</th>\n",
       "      <th>voice_mail_plan</th>\n",
       "      <th>number_vmail_messages</th>\n",
       "      <th>total_day_minutes</th>\n",
       "      <th>total_day_calls</th>\n",
       "      <th>total_day_charge</th>\n",
       "      <th>total_eve_minutes</th>\n",
       "      <th>total_eve_calls</th>\n",
       "      <th>total_eve_charge</th>\n",
       "      <th>total_night_minutes</th>\n",
       "      <th>total_night_calls</th>\n",
       "      <th>total_night_charge</th>\n",
       "      <th>total_intl_minutes</th>\n",
       "      <th>total_intl_calls</th>\n",
       "      <th>total_intl_charge</th>\n",
       "      <th>customer_service_calls</th>\n",
       "      <th>churn</th>\n",
       "    </tr>\n",
       "  </thead>\n",
       "  <tbody>\n",
       "    <tr>\n",
       "      <th>0</th>\n",
       "      <td>16</td>\n",
       "      <td>415</td>\n",
       "      <td>no</td>\n",
       "      <td>yes</td>\n",
       "      <td>25</td>\n",
       "      <td>265.1</td>\n",
       "      <td>110</td>\n",
       "      <td>45.07</td>\n",
       "      <td>197.4</td>\n",
       "      <td>99</td>\n",
       "      <td>16.78</td>\n",
       "      <td>244.7</td>\n",
       "      <td>91</td>\n",
       "      <td>11.01</td>\n",
       "      <td>10.0</td>\n",
       "      <td>3</td>\n",
       "      <td>2.7</td>\n",
       "      <td>1</td>\n",
       "      <td>0</td>\n",
       "    </tr>\n",
       "    <tr>\n",
       "      <th>1</th>\n",
       "      <td>35</td>\n",
       "      <td>415</td>\n",
       "      <td>no</td>\n",
       "      <td>yes</td>\n",
       "      <td>26</td>\n",
       "      <td>161.6</td>\n",
       "      <td>123</td>\n",
       "      <td>27.47</td>\n",
       "      <td>195.5</td>\n",
       "      <td>103</td>\n",
       "      <td>16.62</td>\n",
       "      <td>254.4</td>\n",
       "      <td>103</td>\n",
       "      <td>11.45</td>\n",
       "      <td>13.7</td>\n",
       "      <td>3</td>\n",
       "      <td>3.7</td>\n",
       "      <td>1</td>\n",
       "      <td>0</td>\n",
       "    </tr>\n",
       "  </tbody>\n",
       "</table>\n",
       "</div>"
      ],
      "text/plain": [
       "   state  area_code international_plan voice_mail_plan  number_vmail_messages  \\\n",
       "0     16        415                 no             yes                     25   \n",
       "1     35        415                 no             yes                     26   \n",
       "\n",
       "   total_day_minutes  total_day_calls  total_day_charge  total_eve_minutes  \\\n",
       "0              265.1              110             45.07              197.4   \n",
       "1              161.6              123             27.47              195.5   \n",
       "\n",
       "   total_eve_calls  total_eve_charge  total_night_minutes  total_night_calls  \\\n",
       "0               99             16.78                244.7                 91   \n",
       "1              103             16.62                254.4                103   \n",
       "\n",
       "   total_night_charge  total_intl_minutes  total_intl_calls  \\\n",
       "0               11.01                10.0                 3   \n",
       "1               11.45                13.7                 3   \n",
       "\n",
       "   total_intl_charge  customer_service_calls  churn  \n",
       "0                2.7                       1      0  \n",
       "1                3.7                       1      0  "
      ]
     },
     "execution_count": 22,
     "metadata": {},
     "output_type": "execute_result"
    }
   ],
   "source": [
    "le = LabelEncoder()\n",
    "le.fit(df['state'])\n",
    "df['state'] = le.transform(df['state'])\n",
    "df.head(2)"
   ]
  },
  {
   "cell_type": "code",
   "execution_count": 23,
   "metadata": {},
   "outputs": [
    {
     "data": {
      "text/html": [
       "<div>\n",
       "<style scoped>\n",
       "    .dataframe tbody tr th:only-of-type {\n",
       "        vertical-align: middle;\n",
       "    }\n",
       "\n",
       "    .dataframe tbody tr th {\n",
       "        vertical-align: top;\n",
       "    }\n",
       "\n",
       "    .dataframe thead th {\n",
       "        text-align: right;\n",
       "    }\n",
       "</style>\n",
       "<table border=\"1\" class=\"dataframe\">\n",
       "  <thead>\n",
       "    <tr style=\"text-align: right;\">\n",
       "      <th></th>\n",
       "      <th>state</th>\n",
       "      <th>number_vmail_messages</th>\n",
       "      <th>total_day_minutes</th>\n",
       "      <th>total_day_calls</th>\n",
       "      <th>total_day_charge</th>\n",
       "      <th>total_eve_minutes</th>\n",
       "      <th>total_eve_calls</th>\n",
       "      <th>total_eve_charge</th>\n",
       "      <th>total_night_minutes</th>\n",
       "      <th>total_night_calls</th>\n",
       "      <th>total_night_charge</th>\n",
       "      <th>total_intl_minutes</th>\n",
       "      <th>total_intl_calls</th>\n",
       "      <th>total_intl_charge</th>\n",
       "      <th>customer_service_calls</th>\n",
       "      <th>churn</th>\n",
       "      <th>area_code_is_415</th>\n",
       "      <th>area_code_is_510</th>\n",
       "      <th>international_plan_is_yes</th>\n",
       "      <th>voice_mail_plan_is_yes</th>\n",
       "    </tr>\n",
       "  </thead>\n",
       "  <tbody>\n",
       "    <tr>\n",
       "      <th>0</th>\n",
       "      <td>16</td>\n",
       "      <td>25</td>\n",
       "      <td>265.1</td>\n",
       "      <td>110</td>\n",
       "      <td>45.07</td>\n",
       "      <td>197.4</td>\n",
       "      <td>99</td>\n",
       "      <td>16.78</td>\n",
       "      <td>244.7</td>\n",
       "      <td>91</td>\n",
       "      <td>11.01</td>\n",
       "      <td>10.0</td>\n",
       "      <td>3</td>\n",
       "      <td>2.70</td>\n",
       "      <td>1</td>\n",
       "      <td>0</td>\n",
       "      <td>1</td>\n",
       "      <td>0</td>\n",
       "      <td>0</td>\n",
       "      <td>1</td>\n",
       "    </tr>\n",
       "    <tr>\n",
       "      <th>1</th>\n",
       "      <td>35</td>\n",
       "      <td>26</td>\n",
       "      <td>161.6</td>\n",
       "      <td>123</td>\n",
       "      <td>27.47</td>\n",
       "      <td>195.5</td>\n",
       "      <td>103</td>\n",
       "      <td>16.62</td>\n",
       "      <td>254.4</td>\n",
       "      <td>103</td>\n",
       "      <td>11.45</td>\n",
       "      <td>13.7</td>\n",
       "      <td>3</td>\n",
       "      <td>3.70</td>\n",
       "      <td>1</td>\n",
       "      <td>0</td>\n",
       "      <td>1</td>\n",
       "      <td>0</td>\n",
       "      <td>0</td>\n",
       "      <td>1</td>\n",
       "    </tr>\n",
       "    <tr>\n",
       "      <th>2</th>\n",
       "      <td>31</td>\n",
       "      <td>0</td>\n",
       "      <td>243.4</td>\n",
       "      <td>114</td>\n",
       "      <td>41.38</td>\n",
       "      <td>121.2</td>\n",
       "      <td>110</td>\n",
       "      <td>10.30</td>\n",
       "      <td>162.6</td>\n",
       "      <td>104</td>\n",
       "      <td>7.32</td>\n",
       "      <td>12.2</td>\n",
       "      <td>5</td>\n",
       "      <td>3.29</td>\n",
       "      <td>0</td>\n",
       "      <td>0</td>\n",
       "      <td>1</td>\n",
       "      <td>0</td>\n",
       "      <td>0</td>\n",
       "      <td>0</td>\n",
       "    </tr>\n",
       "    <tr>\n",
       "      <th>3</th>\n",
       "      <td>35</td>\n",
       "      <td>0</td>\n",
       "      <td>299.4</td>\n",
       "      <td>71</td>\n",
       "      <td>50.90</td>\n",
       "      <td>61.9</td>\n",
       "      <td>88</td>\n",
       "      <td>5.26</td>\n",
       "      <td>196.9</td>\n",
       "      <td>89</td>\n",
       "      <td>8.86</td>\n",
       "      <td>6.6</td>\n",
       "      <td>7</td>\n",
       "      <td>1.78</td>\n",
       "      <td>2</td>\n",
       "      <td>0</td>\n",
       "      <td>0</td>\n",
       "      <td>0</td>\n",
       "      <td>1</td>\n",
       "      <td>0</td>\n",
       "    </tr>\n",
       "    <tr>\n",
       "      <th>4</th>\n",
       "      <td>36</td>\n",
       "      <td>0</td>\n",
       "      <td>166.7</td>\n",
       "      <td>113</td>\n",
       "      <td>28.34</td>\n",
       "      <td>148.3</td>\n",
       "      <td>122</td>\n",
       "      <td>12.61</td>\n",
       "      <td>186.9</td>\n",
       "      <td>121</td>\n",
       "      <td>8.41</td>\n",
       "      <td>10.1</td>\n",
       "      <td>3</td>\n",
       "      <td>2.73</td>\n",
       "      <td>3</td>\n",
       "      <td>0</td>\n",
       "      <td>1</td>\n",
       "      <td>0</td>\n",
       "      <td>1</td>\n",
       "      <td>0</td>\n",
       "    </tr>\n",
       "  </tbody>\n",
       "</table>\n",
       "</div>"
      ],
      "text/plain": [
       "   state  number_vmail_messages  total_day_minutes  total_day_calls  \\\n",
       "0     16                     25              265.1              110   \n",
       "1     35                     26              161.6              123   \n",
       "2     31                      0              243.4              114   \n",
       "3     35                      0              299.4               71   \n",
       "4     36                      0              166.7              113   \n",
       "\n",
       "   total_day_charge  total_eve_minutes  total_eve_calls  total_eve_charge  \\\n",
       "0             45.07              197.4               99             16.78   \n",
       "1             27.47              195.5              103             16.62   \n",
       "2             41.38              121.2              110             10.30   \n",
       "3             50.90               61.9               88              5.26   \n",
       "4             28.34              148.3              122             12.61   \n",
       "\n",
       "   total_night_minutes  total_night_calls  total_night_charge  \\\n",
       "0                244.7                 91               11.01   \n",
       "1                254.4                103               11.45   \n",
       "2                162.6                104                7.32   \n",
       "3                196.9                 89                8.86   \n",
       "4                186.9                121                8.41   \n",
       "\n",
       "   total_intl_minutes  total_intl_calls  total_intl_charge  \\\n",
       "0                10.0                 3               2.70   \n",
       "1                13.7                 3               3.70   \n",
       "2                12.2                 5               3.29   \n",
       "3                 6.6                 7               1.78   \n",
       "4                10.1                 3               2.73   \n",
       "\n",
       "   customer_service_calls  churn  area_code_is_415  area_code_is_510  \\\n",
       "0                       1      0                 1                 0   \n",
       "1                       1      0                 1                 0   \n",
       "2                       0      0                 1                 0   \n",
       "3                       2      0                 0                 0   \n",
       "4                       3      0                 1                 0   \n",
       "\n",
       "   international_plan_is_yes  voice_mail_plan_is_yes  \n",
       "0                          0                       1  \n",
       "1                          0                       1  \n",
       "2                          0                       0  \n",
       "3                          1                       0  \n",
       "4                          1                       0  "
      ]
     },
     "execution_count": 23,
     "metadata": {},
     "output_type": "execute_result"
    }
   ],
   "source": [
    "#One hot encoding the rest of the categorical features\n",
    "categorical_cols = ['area_code', 'international_plan', \"voice_mail_plan\"]\n",
    "\n",
    "# Applying one-hot encoding and concatenating the dummy variables\n",
    "for col in categorical_cols:\n",
    "    df = pd.concat([df, pd.get_dummies(df[col], dtype=np.int64, prefix=col + \"_is\", drop_first=True)], axis=1)\n",
    "\n",
    "# Remove duplicate columns\n",
    "df = df.loc[:, ~df.columns.duplicated()]\n",
    "\n",
    "# Drop the original categorical columns\n",
    "df = df.drop(categorical_cols, axis=1)\n",
    "\n",
    "# Display the updated dataframe\n",
    "df.head()\n"
   ]
  },
  {
   "cell_type": "markdown",
   "metadata": {},
   "source": [
    "### Dealing with Outliers"
   ]
  },
  {
   "cell_type": "code",
   "execution_count": 24,
   "metadata": {},
   "outputs": [
    {
     "name": "stdout",
     "output_type": "stream",
     "text": [
      "Predictors: Index(['state', 'number_vmail_messages', 'total_day_minutes',\n",
      "       'total_day_calls', 'total_day_charge', 'total_eve_minutes',\n",
      "       'total_eve_calls', 'total_eve_charge', 'total_night_minutes',\n",
      "       'total_night_calls', 'total_night_charge', 'total_intl_minutes',\n",
      "       'total_intl_calls', 'total_intl_charge', 'customer_service_calls',\n",
      "       'area_code_is_415', 'area_code_is_510', 'international_plan_is_yes',\n",
      "       'voice_mail_plan_is_yes'],\n",
      "      dtype='object')\n",
      "Target: churn\n"
     ]
    }
   ],
   "source": [
    "#Predictors\n",
    "X = df.drop(columns = ['churn'])\n",
    "#Target\n",
    "y = df['churn']\n",
    "\n",
    "print('Predictors:', X.columns)\n",
    "print('Target:', 'churn')"
   ]
  },
  {
   "cell_type": "markdown",
   "metadata": {},
   "source": [
    "The code below removes numerical outliers using a threshold of 3 standard deviations (z-scores) to identify extreme values. This threshold helps maintain data integrity by excluding extreme observations that could disproportionately influence the analysis or modeling results."
   ]
  },
  {
   "cell_type": "code",
   "execution_count": 25,
   "metadata": {},
   "outputs": [],
   "source": [
    "def drop_numerical_outliers(X, y, z_thresh=3):\n",
    "    # Creates a DataFrame combining both X and y\n",
    "    combined_df = pd.concat([X, y], axis=1)\n",
    "    \n",
    "    # Calculates z-scores for numerical columns\n",
    "    z_scores = np.abs(stats.zscore(combined_df.select_dtypes(include=[np.number])))\n",
    "    \n",
    "    # Defines a condition for rows where all z-scores are within the threshold\n",
    "    constrains = (z_scores < z_thresh).all(axis=1)\n",
    "    \n",
    "    # Drops rows that contain outliers\n",
    "    combined_df_clean = combined_df[constrains]\n",
    "    \n",
    "    # Separates X and y from the cleaned DataFrame\n",
    "    X_clean = combined_df_clean.drop(columns=[y.name])\n",
    "    y_clean = combined_df_clean[y.name]\n",
    "    \n",
    "    return X_clean, y_clean"
   ]
  },
  {
   "cell_type": "code",
   "execution_count": 26,
   "metadata": {},
   "outputs": [
    {
     "name": "stdout",
     "output_type": "stream",
     "text": [
      "2866\n"
     ]
    }
   ],
   "source": [
    "#Applying the function\n",
    "X, y = drop_numerical_outliers(X, y)\n",
    "print(len(X))"
   ]
  },
  {
   "cell_type": "markdown",
   "metadata": {},
   "source": [
    "## Modelling"
   ]
  },
  {
   "cell_type": "code",
   "execution_count": 27,
   "metadata": {},
   "outputs": [
    {
     "data": {
      "text/html": [
       "<div>\n",
       "<style scoped>\n",
       "    .dataframe tbody tr th:only-of-type {\n",
       "        vertical-align: middle;\n",
       "    }\n",
       "\n",
       "    .dataframe tbody tr th {\n",
       "        vertical-align: top;\n",
       "    }\n",
       "\n",
       "    .dataframe thead th {\n",
       "        text-align: right;\n",
       "    }\n",
       "</style>\n",
       "<table border=\"1\" class=\"dataframe\">\n",
       "  <thead>\n",
       "    <tr style=\"text-align: right;\">\n",
       "      <th></th>\n",
       "      <th>state</th>\n",
       "      <th>number_vmail_messages</th>\n",
       "      <th>total_day_minutes</th>\n",
       "      <th>total_day_calls</th>\n",
       "      <th>total_day_charge</th>\n",
       "      <th>total_eve_minutes</th>\n",
       "      <th>total_eve_calls</th>\n",
       "      <th>total_eve_charge</th>\n",
       "      <th>total_night_minutes</th>\n",
       "      <th>total_night_calls</th>\n",
       "      <th>total_night_charge</th>\n",
       "      <th>total_intl_minutes</th>\n",
       "      <th>total_intl_calls</th>\n",
       "      <th>total_intl_charge</th>\n",
       "      <th>customer_service_calls</th>\n",
       "      <th>area_code_is_415</th>\n",
       "      <th>area_code_is_510</th>\n",
       "      <th>international_plan_is_yes</th>\n",
       "      <th>voice_mail_plan_is_yes</th>\n",
       "    </tr>\n",
       "  </thead>\n",
       "  <tbody>\n",
       "    <tr>\n",
       "      <th>0</th>\n",
       "      <td>16</td>\n",
       "      <td>1.259626</td>\n",
       "      <td>1.598456</td>\n",
       "      <td>0.480833</td>\n",
       "      <td>1.598735</td>\n",
       "      <td>-0.071458</td>\n",
       "      <td>-0.057886</td>\n",
       "      <td>-0.071270</td>\n",
       "      <td>0.871922</td>\n",
       "      <td>-0.461453</td>\n",
       "      <td>0.871199</td>\n",
       "      <td>-0.101921</td>\n",
       "      <td>-0.634614</td>\n",
       "      <td>-0.10266</td>\n",
       "      <td>-0.427956</td>\n",
       "      <td>1</td>\n",
       "      <td>0</td>\n",
       "      <td>0</td>\n",
       "      <td>1</td>\n",
       "    </tr>\n",
       "    <tr>\n",
       "      <th>1</th>\n",
       "      <td>35</td>\n",
       "      <td>1.333449</td>\n",
       "      <td>-0.332745</td>\n",
       "      <td>1.144444</td>\n",
       "      <td>-0.333025</td>\n",
       "      <td>-0.109616</td>\n",
       "      <td>0.144433</td>\n",
       "      <td>-0.109075</td>\n",
       "      <td>1.067069</td>\n",
       "      <td>0.157513</td>\n",
       "      <td>1.067908</td>\n",
       "      <td>1.279107</td>\n",
       "      <td>-0.634614</td>\n",
       "      <td>1.27978</td>\n",
       "      <td>-0.427956</td>\n",
       "      <td>1</td>\n",
       "      <td>0</td>\n",
       "      <td>0</td>\n",
       "      <td>1</td>\n",
       "    </tr>\n",
       "  </tbody>\n",
       "</table>\n",
       "</div>"
      ],
      "text/plain": [
       "   state  number_vmail_messages  total_day_minutes  total_day_calls  \\\n",
       "0     16               1.259626           1.598456         0.480833   \n",
       "1     35               1.333449          -0.332745         1.144444   \n",
       "\n",
       "   total_day_charge  total_eve_minutes  total_eve_calls  total_eve_charge  \\\n",
       "0          1.598735          -0.071458        -0.057886         -0.071270   \n",
       "1         -0.333025          -0.109616         0.144433         -0.109075   \n",
       "\n",
       "   total_night_minutes  total_night_calls  total_night_charge  \\\n",
       "0             0.871922          -0.461453            0.871199   \n",
       "1             1.067069           0.157513            1.067908   \n",
       "\n",
       "   total_intl_minutes  total_intl_calls  total_intl_charge  \\\n",
       "0           -0.101921         -0.634614           -0.10266   \n",
       "1            1.279107         -0.634614            1.27978   \n",
       "\n",
       "   customer_service_calls  area_code_is_415  area_code_is_510  \\\n",
       "0               -0.427956                 1                 0   \n",
       "1               -0.427956                 1                 0   \n",
       "\n",
       "   international_plan_is_yes  voice_mail_plan_is_yes  \n",
       "0                          0                       1  \n",
       "1                          0                       1  "
      ]
     },
     "execution_count": 27,
     "metadata": {},
     "output_type": "execute_result"
    }
   ],
   "source": [
    "#Scaling the continuous features\n",
    "cont = num_features\n",
    "X_cont = X[cont]\n",
    "scaler = StandardScaler()\n",
    "X_cont_scaled = scaler.fit_transform(X_cont)\n",
    "X[cont] = X_cont_scaled\n",
    "X.head(2)"
   ]
  },
  {
   "cell_type": "code",
   "execution_count": 28,
   "metadata": {},
   "outputs": [
    {
     "name": "stdout",
     "output_type": "stream",
     "text": [
      "Train set shape: X, (2292, 19) y, (2292,)\n",
      "Test set shape: X, (574, 19) y: (574,)\n"
     ]
    }
   ],
   "source": [
    "#splitting the data to training and testing sets for modeling\n",
    "X_train, X_test, y_train, y_test = train_test_split(X, y, test_size=0.2, random_state=42)\n",
    "print('Train set shape:', 'X,', X_train.shape, 'y,', y_train.shape)\n",
    "print('Test set shape:', 'X,' , X_test.shape, 'y:', y_test.shape)\n"
   ]
  },
  {
   "cell_type": "markdown",
   "metadata": {},
   "source": [
    "Before diving into model training, we'll address the class imbalance issue in the training set by applying SMOTE (Synthetic Minority Oversampling Technique). Class imbalance occurs when one class (in this case, 'Churn') is significantly underrepresented compared to another class. SMOTE combats this by generating synthetic samples for the minority class, effectively balancing the class distribution and mitigating potential overfitting problems that can arise with random oversampling ensuring a more robust and accurate model."
   ]
  },
  {
   "cell_type": "code",
   "execution_count": 29,
   "metadata": {},
   "outputs": [
    {
     "data": {
      "text/plain": [
       "0    2043\n",
       "1     249\n",
       "Name: churn, dtype: int64"
      ]
     },
     "execution_count": 29,
     "metadata": {},
     "output_type": "execute_result"
    }
   ],
   "source": [
    "y_train.value_counts()\n",
    "#the minority class is the group of customers who have churned(positive class)"
   ]
  },
  {
   "cell_type": "code",
   "execution_count": 30,
   "metadata": {},
   "outputs": [
    {
     "name": "stdout",
     "output_type": "stream",
     "text": [
      "Before SMOTE, X_train: (2292, 19)\n",
      "After SMOTE, X_train_resampled: (4086, 19)\n",
      "Before SMOTE, y_train: (2292,)\n",
      "After SMOTE, y_train_resampled: (4086,)\n"
     ]
    }
   ],
   "source": [
    "# The SMOTE will be applied to the positive class\n",
    " #k_neighbors=3 mean that SMOTE will identify the three closest samples to each minority class instance and generate synthetic samples by interpolating between them. \n",
    "sm = SMOTE(k_neighbors=5, random_state=42)\n",
    "X_train_resampled, y_train_resampled = sm.fit_resample(X_train, y_train)\n",
    "print('Before SMOTE, X_train:', X_train.shape)\n",
    "print('After SMOTE, X_train_resampled:', X_train_resampled.shape)\n",
    "print('Before SMOTE, y_train:', y_train.shape)\n",
    "print('After SMOTE, y_train_resampled:', y_train_resampled.shape )"
   ]
  },
  {
   "cell_type": "code",
   "execution_count": 31,
   "metadata": {},
   "outputs": [
    {
     "data": {
      "text/plain": [
       "1    2043\n",
       "0    2043\n",
       "Name: churn, dtype: int64"
      ]
     },
     "execution_count": 31,
     "metadata": {},
     "output_type": "execute_result"
    }
   ],
   "source": [
    "y_train_resampled.value_counts()\n",
    "#The class imbalance issues has been dealt with.c9"
   ]
  },
  {
   "cell_type": "markdown",
   "metadata": {},
   "source": [
    "## Baseline Models"
   ]
  },
  {
   "cell_type": "markdown",
   "metadata": {},
   "source": [
    "### Model 1 : Logistic Regression"
   ]
  },
  {
   "cell_type": "code",
   "execution_count": 32,
   "metadata": {},
   "outputs": [],
   "source": [
    "logreg = LogisticRegression()\n",
    "logreg.fit(X_train_resampled, y_train_resampled)\n",
    "y_test_pred = logreg.predict(X_test)"
   ]
  },
  {
   "cell_type": "code",
   "execution_count": 33,
   "metadata": {},
   "outputs": [
    {
     "name": "stdout",
     "output_type": "stream",
     "text": [
      "              precision    recall  f1-score   support\n",
      "\n",
      "           0       0.94      0.81      0.87       508\n",
      "           1       0.30      0.61      0.40        66\n",
      "\n",
      "    accuracy                           0.79       574\n",
      "   macro avg       0.62      0.71      0.64       574\n",
      "weighted avg       0.87      0.79      0.82       574\n",
      "\n"
     ]
    }
   ],
   "source": [
    "report = classification_report(y_test, y_test_pred)\n",
    "print(report)"
   ]
  },
  {
   "cell_type": "code",
   "execution_count": 34,
   "metadata": {},
   "outputs": [
    {
     "name": "stdout",
     "output_type": "stream",
     "text": [
      "Testing Precision:  0.2962962962962963\n",
      "Testing Recall:  0.6060606060606061\n",
      "Testing Accuracy:  0.789198606271777\n",
      "Testing F1-Score:  0.3980099502487562\n"
     ]
    }
   ],
   "source": [
    "print('Testing Precision: ', precision_score(y_test, y_test_pred))\n",
    "print('Testing Recall: ', recall_score(y_test, y_test_pred))\n",
    "print('Testing Accuracy: ', accuracy_score(y_test, y_test_pred))\n",
    "print('Testing F1-Score: ', f1_score(y_test, y_test_pred))"
   ]
  },
  {
   "cell_type": "markdown",
   "metadata": {},
   "source": [
    "Testing Precision (0.30) indicates that the model correctly predicted approximately 30% of the positive cases. Testing Recall (0.61) reveals that the model captured around 61% of the actual positive cases. Testing Accuracy (0.79) shows that the model's overall correct prediction rate stands at approximately 79%. Testing F1-Score (0.40) suggests that the model strikes a balance between precision and recall, with a score of around 40%, indicating its potential to effectively classify instances while considering both false positives and false negatives."
   ]
  },
  {
   "cell_type": "code",
   "execution_count": 35,
   "metadata": {},
   "outputs": [],
   "source": [
    "#Below is  a function that plots a confusion matrix\n",
    "import itertools\n",
    "def plot_confusion_matrix(model, X, y, labels):\n",
    "    cfm = confusion_matrix(y, model.predict(X))\n",
    "    plt.figure(figsize=(8, 6))\n",
    "    plt.imshow(cfm, interpolation='nearest', cmap=plt.get_cmap('Blues'))\n",
    "    plt.title('Confusion Matrix')\n",
    "    plt.colorbar()\n",
    "\n",
    "    tick_marks = np.arange(len(labels))\n",
    "    plt.xticks(tick_marks, labels, rotation=45)\n",
    "    plt.yticks(tick_marks, labels)\n",
    "\n",
    "    thresh = cfm.max() / 2.0\n",
    "    for i, j in itertools.product(range(cfm.shape[0]), range(cfm.shape[1])):\n",
    "        plt.text(j, i, format(cfm[i, j], 'd'),\n",
    "                 horizontalalignment=\"center\",\n",
    "                 color=\"white\" if cfm[i, j] > thresh else \"black\")\n",
    "\n",
    "    plt.ylabel('True label')\n",
    "    plt.xlabel('Predicted label')\n",
    "    plt.tight_layout()\n"
   ]
  },
  {
   "cell_type": "code",
   "execution_count": 36,
   "metadata": {},
   "outputs": [
    {
     "data": {
      "image/png": "[encoded data removed]",
      "text/plain": [
       "<Figure size 576x432 with 2 Axes>"
      ]
     },
     "metadata": {},
     "output_type": "display_data"
    }
   ],
   "source": [
    "class_labels = ['Class 0', 'Class 1']\n",
    "\n",
    "plot_confusion_matrix(logreg, X_test, y_test, class_labels)\n",
    "plt.grid(visible=False)\n",
    "plt.savefig(fname='./images/cm1.png', facecolor='white')\n",
    "\n",
    "plt.show()\n"
   ]
  },
  {
   "cell_type": "markdown",
   "metadata": {},
   "source": [
    "### Model 2: Decision Tree"
   ]
  },
  {
   "cell_type": "code",
   "execution_count": 37,
   "metadata": {},
   "outputs": [],
   "source": [
    "dt = DecisionTreeClassifier(random_state=42)\n",
    "dt.fit(X_train_resampled,y_train_resampled)\n",
    "y_te_pred_dt = dt.predict(X_test)"
   ]
  },
  {
   "cell_type": "code",
   "execution_count": 38,
   "metadata": {},
   "outputs": [
    {
     "name": "stdout",
     "output_type": "stream",
     "text": [
      "              precision    recall  f1-score   support\n",
      "\n",
      "           0       0.96      0.92      0.94       508\n",
      "           1       0.51      0.68      0.58        66\n",
      "\n",
      "    accuracy                           0.89       574\n",
      "   macro avg       0.73      0.80      0.76       574\n",
      "weighted avg       0.91      0.89      0.90       574\n",
      "\n"
     ]
    }
   ],
   "source": [
    "report = classification_report(y_test, y_te_pred_dt)\n",
    "print(report)"
   ]
  },
  {
   "cell_type": "code",
   "execution_count": 39,
   "metadata": {},
   "outputs": [
    {
     "name": "stdout",
     "output_type": "stream",
     "text": [
      "Testing Precision:  0.5113636363636364\n",
      "Testing Recall:  0.6818181818181818\n",
      "Testing Accuracy:  0.8885017421602788\n",
      "Testing F1-Score:  0.5844155844155844\n"
     ]
    }
   ],
   "source": [
    "print('Testing Precision: ', precision_score(y_test, y_te_pred_dt))\n",
    "print('Testing Recall: ', recall_score(y_test, y_te_pred_dt))\n",
    "print('Testing Accuracy: ', accuracy_score(y_test, y_te_pred_dt))\n",
    "print('Testing F1-Score: ', f1_score(y_test, y_te_pred_dt))"
   ]
  },
  {
   "cell_type": "markdown",
   "metadata": {},
   "source": [
    "In this evaluation, the model exhibits improved performance compared to the previous results. Testing Precision (0.51) is higher, signifying that approximately 51% of the positive cases were correctly predicted. Testing Recall (0.68) has also increased, indicating that approximately 68% of actual positive cases were captured. The Testing Accuracy (0.89) has improved, demonstrating an overall correct prediction rate of about 89%. Testing F1-Score (0.58) reveals a balance between precision and recall, suggesting that the model can effectively classify instances while considering false positives and false negatives, with a score of around 58%. This evaluation demonstrates that the model's predictive capabilities have been enhanced in comparison to the initial results, with increased precision, recall, accuracy, and F1-Score."
   ]
  },
  {
   "cell_type": "code",
   "execution_count": 40,
   "metadata": {},
   "outputs": [
    {
     "data": {
      "image/png": "[encoded data removed]",
      "text/plain": [
       "<Figure size 576x432 with 2 Axes>"
      ]
     },
     "metadata": {},
     "output_type": "display_data"
    }
   ],
   "source": [
    "plot_confusion_matrix(dt, X_test, y_test, class_labels)\n",
    "plt.grid(visible=False)\n",
    "plt.savefig(fname='./images/cm2.png', facecolor='white')\n",
    "\n",
    "plt.show()\n"
   ]
  },
  {
   "cell_type": "markdown",
   "metadata": {},
   "source": [
    "### Model 3: Random Forest"
   ]
  },
  {
   "cell_type": "code",
   "execution_count": 42,
   "metadata": {},
   "outputs": [],
   "source": [
    "rf_model = RandomForestClassifier()\n",
    "rf_model.fit(X_train_resampled, y_train_resampled)\n",
    "y_te_pred_rf = rf_model.predict(X_test)"
   ]
  },
  {
   "cell_type": "code",
   "execution_count": 43,
   "metadata": {},
   "outputs": [
    {
     "name": "stdout",
     "output_type": "stream",
     "text": [
      "              precision    recall  f1-score   support\n",
      "\n",
      "           0       0.96      0.96      0.96       508\n",
      "           1       0.70      0.71      0.71        66\n",
      "\n",
      "    accuracy                           0.93       574\n",
      "   macro avg       0.83      0.84      0.83       574\n",
      "weighted avg       0.93      0.93      0.93       574\n",
      "\n"
     ]
    }
   ],
   "source": [
    "report = classification_report(y_test, y_te_pred_rf)\n",
    "print(report)"
   ]
  },
  {
   "cell_type": "code",
   "execution_count": 44,
   "metadata": {},
   "outputs": [
    {
     "name": "stdout",
     "output_type": "stream",
     "text": [
      "Testing Precision:  0.7014925373134329\n",
      "Testing Recall:  0.7121212121212122\n",
      "Testing Accuracy:  0.9320557491289199\n",
      "Testing F1-Score:  0.7067669172932332\n"
     ]
    }
   ],
   "source": [
    "print('Testing Precision: ', precision_score(y_test, y_te_pred_rf))\n",
    "print('Testing Recall: ', recall_score(y_test, y_te_pred_rf))\n",
    "print('Testing Accuracy: ', accuracy_score(y_test, y_te_pred_rf))\n",
    "print('Testing F1-Score: ', f1_score(y_test, y_te_pred_rf))"
   ]
  },
  {
   "cell_type": "markdown",
   "metadata": {},
   "source": [
    "In this evaluation, the model demonstrates even more remarkable performance. The Testing Precision (0.70) indicates that approximately 70% of positive predictions are correct. Testing Recall (0.71) signifies that approximately 71% of actual positive cases are correctly identified. The Testing Accuracy (0.93) reflects an overall accuracy rate of about 93%, showcasing the model's ability to make correct predictions. The Testing F1-Score (0.7068) showcases a harmonious balance between precision and recall, highlighting the model's effectiveness in correctly classifying instances while considering both false positives and false negatives, with a score of approximately 71%. These results indicate a significant improvement in the model's predictive capabilities, with higher precision, recall, accuracy, and F1-Score compared to previous evaluations."
   ]
  },
  {
   "cell_type": "code",
   "execution_count": 45,
   "metadata": {},
   "outputs": [
    {
     "data": {
      "image/png": "[encoded data removed]",
      "text/plain": [
       "<Figure size 576x432 with 2 Axes>"
      ]
     },
     "metadata": {},
     "output_type": "display_data"
    }
   ],
   "source": [
    "plot_confusion_matrix(rf_model, X_test, y_test, class_labels)\n",
    "plt.grid(visible=False)\n",
    "plt.savefig(fname='./images/cm3.png', facecolor='white')\n",
    "\n",
    "plt.show()\n"
   ]
  },
  {
   "cell_type": "markdown",
   "metadata": {},
   "source": [
    "### Model 4: K-Nearest Neighbors(KNN)"
   ]
  },
  {
   "cell_type": "code",
   "execution_count": 46,
   "metadata": {},
   "outputs": [],
   "source": [
    "knn_model = KNeighborsClassifier()\n",
    "knn_model.fit(X_train_resampled, y_train_resampled)\n",
    "y_te_pred_knn = knn_model.predict(X_test)"
   ]
  },
  {
   "cell_type": "code",
   "execution_count": 47,
   "metadata": {},
   "outputs": [
    {
     "name": "stdout",
     "output_type": "stream",
     "text": [
      "              precision    recall  f1-score   support\n",
      "\n",
      "           0       0.94      0.77      0.85       508\n",
      "           1       0.26      0.64      0.37        66\n",
      "\n",
      "    accuracy                           0.75       574\n",
      "   macro avg       0.60      0.70      0.61       574\n",
      "weighted avg       0.86      0.75      0.79       574\n",
      "\n"
     ]
    }
   ],
   "source": [
    "report = classification_report(y_test, y_te_pred_knn)\n",
    "print(report)"
   ]
  },
  {
   "cell_type": "code",
   "execution_count": 48,
   "metadata": {},
   "outputs": [
    {
     "name": "stdout",
     "output_type": "stream",
     "text": [
      "Testing Precision:  0.2625\n",
      "Testing Recall:  0.6363636363636364\n",
      "Testing Accuracy:  0.7526132404181185\n",
      "Testing F1-Score:  0.3716814159292035\n"
     ]
    }
   ],
   "source": [
    "print('Testing Precision: ', precision_score(y_test, y_te_pred_knn))\n",
    "print('Testing Recall: ', recall_score(y_test, y_te_pred_knn))\n",
    "print('Testing Accuracy: ', accuracy_score(y_test, y_te_pred_knn))\n",
    "print('Testing F1-Score: ', f1_score(y_test, y_te_pred_knn))"
   ]
  },
  {
   "cell_type": "markdown",
   "metadata": {},
   "source": [
    "In this evaluation, the model's Testing Precision (0.2625) signifies that approximately 26% of positive predictions are correct, while the Testing Recall (0.6364) indicates that around 64% of actual positive cases are correctly identified. The Testing Accuracy (0.7526) reflects an overall accuracy rate of about 75%, showcasing the model's ability to make correct predictions. The Testing F1-Score (0.3717) illustrates the balance between precision and recall, emphasizing the model's effectiveness in classifying instances while considering both false positives and false negatives. These results suggest that the model has room for improvement in its predictive capabilities, with potential enhancements in precision, recall, and the F1-Score to achieve better overall performance."
   ]
  },
  {
   "cell_type": "code",
   "execution_count": 49,
   "metadata": {},
   "outputs": [
    {
     "data": {
      "image/png": "[encoded data removed]",
      "text/plain": [
       "<Figure size 576x432 with 2 Axes>"
      ]
     },
     "metadata": {},
     "output_type": "display_data"
    }
   ],
   "source": [
    "plot_confusion_matrix(knn_model, X_test, y_test, class_labels)\n",
    "plt.grid(visible=False)\n",
    "plt.savefig(fname='./images/cm4.png', facecolor='white')\n",
    "\n",
    "plt.show()\n"
   ]
  },
  {
   "cell_type": "markdown",
   "metadata": {},
   "source": [
    "## Hyperparameter Tuning"
   ]
  },
  {
   "cell_type": "markdown",
   "metadata": {},
   "source": [
    "For all the above baseline models, hyperparameter tuning will be used using cross-validated GridSearchCV. GridSearchCV exhaustively searches through a predefined hyperparameter grid to find the optimal combination for a machine learning model, enhancing its performance."
   ]
  },
  {
   "cell_type": "markdown",
   "metadata": {},
   "source": [
    "### 1. Logistic Regression"
   ]
  },
  {
   "cell_type": "code",
   "execution_count": 50,
   "metadata": {},
   "outputs": [
    {
     "name": "stdout",
     "output_type": "stream",
     "text": [
      "X_train_resampled shape: (4086, 19)\n",
      "y_train_resampled shape: (4086,)\n"
     ]
    }
   ],
   "source": [
    "print(\"X_train_resampled shape:\", X_train_resampled.shape)\n",
    "print(\"y_train_resampled shape:\", y_train_resampled.shape)\n"
   ]
  },
  {
   "cell_type": "code",
   "execution_count": 51,
   "metadata": {},
   "outputs": [],
   "source": [
    "#parameter grid\n",
    "lr_params = {'penalty': ['l1', 'l2', 'elasticnet', 'none'], \n",
    "             'C': np.logspace(0, 4, 5),\n",
    "             'solver': ['lbfgs', 'newton-cg', 'liblinear', 'saga'],\n",
    "             'max_iter' : [100, 200, 300, 500, 1000]}\n"
   ]
  },
  {
   "cell_type": "code",
   "execution_count": 52,
   "metadata": {},
   "outputs": [
    {
     "name": "stdout",
     "output_type": "stream",
     "text": [
      "Fitting 3 folds for each of 400 candidates, totalling 1200 fits\n",
      "Best parameters: {'C': 1000.0, 'max_iter': 1000, 'penalty': 'l1', 'solver': 'liblinear'}\n"
     ]
    }
   ],
   "source": [
    "#Grid search for the model's optimiztion\n",
    "lr_model_tuned = LogisticRegression()\n",
    "lr_cv_model = GridSearchCV(lr_model_tuned, lr_params, cv=3, n_jobs= -1, verbose=1)\n",
    "lr_cv_model.fit(X_train_resampled, y_train_resampled)\n",
    "print(\"Best parameters: \" + str(lr_cv_model.best_params_))"
   ]
  },
  {
   "cell_type": "code",
   "execution_count": 53,
   "metadata": {},
   "outputs": [],
   "source": [
    "#Model with GridSearchCV \n",
    "lr_model_w_CV = LogisticRegression(C= 10000, max_iter=100, penalty='l2', solver='liblinear')\n",
    "lr_model_w_CV.fit(X_train_resampled, y_train_resampled)\n",
    "y_te_pred_lrcv = lr_model_w_CV.predict(X_test)"
   ]
  },
  {
   "cell_type": "code",
   "execution_count": 54,
   "metadata": {},
   "outputs": [
    {
     "name": "stdout",
     "output_type": "stream",
     "text": [
      "              precision    recall  f1-score   support\n",
      "\n",
      "           0       0.94      0.81      0.87       508\n",
      "           1       0.30      0.62      0.41        66\n",
      "\n",
      "    accuracy                           0.79       574\n",
      "   macro avg       0.62      0.72      0.64       574\n",
      "weighted avg       0.87      0.79      0.82       574\n",
      "\n"
     ]
    }
   ],
   "source": [
    "report = classification_report(y_test, y_te_pred_lrcv)\n",
    "print(report)"
   ]
  },
  {
   "cell_type": "code",
   "execution_count": 55,
   "metadata": {},
   "outputs": [
    {
     "name": "stdout",
     "output_type": "stream",
     "text": [
      "Testing Precision:  0.3014705882352941\n",
      "Testing Recall:  0.6212121212121212\n",
      "Testing Accuracy:  0.7909407665505227\n",
      "Testing F1-Score:  0.4059405940594059\n"
     ]
    }
   ],
   "source": [
    "print('Testing Precision: ', precision_score(y_test, y_te_pred_lrcv))\n",
    "print('Testing Recall: ', recall_score(y_test, y_te_pred_lrcv))\n",
    "print('Testing Accuracy: ', accuracy_score(y_test, y_te_pred_lrcv))\n",
    "print('Testing F1-Score: ', f1_score(y_test, y_te_pred_lrcv))"
   ]
  },
  {
   "cell_type": "code",
   "execution_count": 56,
   "metadata": {},
   "outputs": [
    {
     "data": {
      "image/png": "[encoded data removed]",
      "text/plain": [
       "<Figure size 576x432 with 2 Axes>"
      ]
     },
     "metadata": {},
     "output_type": "display_data"
    }
   ],
   "source": [
    "plot_confusion_matrix(lr_model_w_CV, X_test, y_test, class_labels)\n",
    "plt.grid(visible=False)\n",
    "plt.savefig(fname='./images/cm5.png', facecolor='white')\n",
    "\n",
    "plt.show()"
   ]
  },
  {
   "cell_type": "code",
   "execution_count": 96,
   "metadata": {},
   "outputs": [
    {
     "data": {
      "text/html": [
       "<style  type=\"text/css\" >\n",
       "#T_be9c547e_719c_11ee_977d_c8d9d2e06792row1_col1,#T_be9c547e_719c_11ee_977d_c8d9d2e06792row1_col2,#T_be9c547e_719c_11ee_977d_c8d9d2e06792row1_col3,#T_be9c547e_719c_11ee_977d_c8d9d2e06792row1_col4{\n",
       "            background-color:  lightblue;\n",
       "        }</style><table id=\"T_be9c547e_719c_11ee_977d_c8d9d2e06792\" ><thead>    <tr>        <th class=\"blank level0\" ></th>        <th class=\"col_heading level0 col0\" >Model</th>        <th class=\"col_heading level0 col1\" >Accuracy (Test Set)</th>        <th class=\"col_heading level0 col2\" >F1 Score (Test Set)</th>        <th class=\"col_heading level0 col3\" >Recall (Test Set)</th>        <th class=\"col_heading level0 col4\" >Precision (Test Set)</th>    </tr></thead><tbody>\n",
       "                <tr>\n",
       "                        <th id=\"T_be9c547e_719c_11ee_977d_c8d9d2e06792level0_row0\" class=\"row_heading level0 row0\" >0</th>\n",
       "                        <td id=\"T_be9c547e_719c_11ee_977d_c8d9d2e06792row0_col0\" class=\"data row0 col0\" >Logistic Regression Classifier (Default)</td>\n",
       "                        <td id=\"T_be9c547e_719c_11ee_977d_c8d9d2e06792row0_col1\" class=\"data row0 col1\" >0.789199</td>\n",
       "                        <td id=\"T_be9c547e_719c_11ee_977d_c8d9d2e06792row0_col2\" class=\"data row0 col2\" >0.398010</td>\n",
       "                        <td id=\"T_be9c547e_719c_11ee_977d_c8d9d2e06792row0_col3\" class=\"data row0 col3\" >0.606061</td>\n",
       "                        <td id=\"T_be9c547e_719c_11ee_977d_c8d9d2e06792row0_col4\" class=\"data row0 col4\" >0.296296</td>\n",
       "            </tr>\n",
       "            <tr>\n",
       "                        <th id=\"T_be9c547e_719c_11ee_977d_c8d9d2e06792level0_row1\" class=\"row_heading level0 row1\" >1</th>\n",
       "                        <td id=\"T_be9c547e_719c_11ee_977d_c8d9d2e06792row1_col0\" class=\"data row1 col0\" >Tuned Logistic Regression Classifier</td>\n",
       "                        <td id=\"T_be9c547e_719c_11ee_977d_c8d9d2e06792row1_col1\" class=\"data row1 col1\" >0.790941</td>\n",
       "                        <td id=\"T_be9c547e_719c_11ee_977d_c8d9d2e06792row1_col2\" class=\"data row1 col2\" >0.405941</td>\n",
       "                        <td id=\"T_be9c547e_719c_11ee_977d_c8d9d2e06792row1_col3\" class=\"data row1 col3\" >0.621212</td>\n",
       "                        <td id=\"T_be9c547e_719c_11ee_977d_c8d9d2e06792row1_col4\" class=\"data row1 col4\" >0.301471</td>\n",
       "            </tr>\n",
       "    </tbody></table>"
      ],
      "text/plain": [
       "<pandas.io.formats.style.Styler at 0x1aaff08e220>"
      ]
     },
     "execution_count": 96,
     "metadata": {},
     "output_type": "execute_result"
    }
   ],
   "source": [
    "#Comparison\n",
    "comparison_frame = pd.DataFrame({'Model':['Logistic Regression Classifier (Default)',\n",
    "                                          'Tuned Logistic Regression Classifier'],\n",
    "                                 'Accuracy (Test Set)':[accuracy_score(y_test,y_test_pred), accuracy_score(y_test,y_te_pred_lrcv)],\n",
    "                                 'F1 Score (Test Set)':[f1_score(y_test, y_test_pred), f1_score(y_test,y_te_pred_lrcv)],\n",
    "                                 'Recall (Test Set)':[recall_score(y_test, y_test_pred), recall_score(y_test,y_te_pred_lrcv)], \n",
    "                                 'Precision (Test Set)':[precision_score(y_test, y_test_pred), precision_score(y_test,y_te_pred_lrcv)]}) \n",
    "\n",
    "comparison_frame.style.highlight_max(color = 'lightblue', axis = 0)"
   ]
  },
  {
   "cell_type": "markdown",
   "metadata": {},
   "source": [
    "The tuned model did better at accuracy, f1 score, recall and precision."
   ]
  },
  {
   "cell_type": "markdown",
   "metadata": {},
   "source": [
    "### 2. Decision Tree"
   ]
  },
  {
   "cell_type": "code",
   "execution_count": 58,
   "metadata": {},
   "outputs": [],
   "source": [
    "dt_params = {\n",
    "    'max_depth': [2, 5, 10, 15, 20], \n",
    "    'min_samples_split': [2, 5, 10, 20],\n",
    "    'criterion': ['gini', 'entropy'],\n",
    "    'max_features': ['sqrt'],\n",
    "    'min_samples_leaf': [1, 2, 5, 10],\n",
    "    'max_leaf_nodes': [None, 10, 20, 30, 40],\n",
    "    'class_weight': [None, 'balanced'],\n",
    "}"
   ]
  },
  {
   "cell_type": "code",
   "execution_count": 59,
   "metadata": {},
   "outputs": [
    {
     "name": "stdout",
     "output_type": "stream",
     "text": [
      "Best parameters:{'class_weight': 'balanced', 'criterion': 'entropy', 'max_depth': 20, 'max_features': 'sqrt', 'max_leaf_nodes': None, 'min_samples_leaf': 5, 'min_samples_split': 10}\n"
     ]
    }
   ],
   "source": [
    "dt_model_2 = DecisionTreeClassifier()\n",
    "dt_cv_model = GridSearchCV(dt_model_2, dt_params, cv=3, n_jobs=-1, verbose=False)\n",
    "dt_cv_model.fit(X_train_resampled, y_train_resampled)\n",
    "print(\"Best parameters:\"+str(dt_cv_model.best_params_))"
   ]
  },
  {
   "cell_type": "code",
   "execution_count": 60,
   "metadata": {},
   "outputs": [],
   "source": [
    "#dt with GridSearchCV\n",
    "dt_wcv_model = DecisionTreeClassifier(class_weight='balanced',\n",
    "                                      criterion='entropy',\n",
    "                                      max_depth=20,\n",
    "                                      max_features= 'sqrt', \n",
    "                                      max_leaf_nodes= None, \n",
    "                                      min_samples_leaf = 1, \n",
    "                                      min_samples_split = 10\n",
    "                                      )\n",
    "dt_wcv_model.fit(X_train_resampled, y_train_resampled)\n",
    "y_te_pred_dtcv = dt_wcv_model.predict(X_test)"
   ]
  },
  {
   "cell_type": "code",
   "execution_count": 61,
   "metadata": {},
   "outputs": [
    {
     "name": "stdout",
     "output_type": "stream",
     "text": [
      "              precision    recall  f1-score   support\n",
      "\n",
      "           0       0.94      0.90      0.92       508\n",
      "           1       0.40      0.53      0.46        66\n",
      "\n",
      "    accuracy                           0.86       574\n",
      "   macro avg       0.67      0.71      0.69       574\n",
      "weighted avg       0.87      0.86      0.86       574\n",
      "\n"
     ]
    }
   ],
   "source": [
    "report = classification_report(y_test, y_te_pred_dtcv)\n",
    "print(report)"
   ]
  },
  {
   "cell_type": "code",
   "execution_count": 62,
   "metadata": {},
   "outputs": [
    {
     "name": "stdout",
     "output_type": "stream",
     "text": [
      "Testing Precision:  0.40229885057471265\n",
      "Testing Recall:  0.5303030303030303\n",
      "Testing Accuracy:  0.8554006968641115\n",
      "Testing F1-Score:  0.45751633986928103\n"
     ]
    }
   ],
   "source": [
    "print('Testing Precision: ', precision_score(y_test, y_te_pred_dtcv))\n",
    "print('Testing Recall: ', recall_score(y_test, y_te_pred_dtcv))\n",
    "print('Testing Accuracy: ', accuracy_score(y_test, y_te_pred_dtcv))\n",
    "print('Testing F1-Score: ', f1_score(y_test, y_te_pred_dtcv))"
   ]
  },
  {
   "cell_type": "code",
   "execution_count": 63,
   "metadata": {},
   "outputs": [
    {
     "data": {
      "image/png": "[encoded data removed]",
      "text/plain": [
       "<Figure size 576x432 with 2 Axes>"
      ]
     },
     "metadata": {},
     "output_type": "display_data"
    }
   ],
   "source": [
    "plot_confusion_matrix(dt_wcv_model, X_test, y_test, class_labels)\n",
    "plt.grid(visible=False)\n",
    "plt.savefig(fname='./images/cm6.png', facecolor='white')\n",
    "\n",
    "plt.show()"
   ]
  },
  {
   "cell_type": "code",
   "execution_count": 95,
   "metadata": {},
   "outputs": [
    {
     "data": {
      "text/html": [
       "<style  type=\"text/css\" >\n",
       "#T_ab334317_719c_11ee_8414_c8d9d2e06792row0_col1,#T_ab334317_719c_11ee_8414_c8d9d2e06792row0_col2,#T_ab334317_719c_11ee_8414_c8d9d2e06792row0_col3,#T_ab334317_719c_11ee_8414_c8d9d2e06792row1_col4{\n",
       "            background-color:  lightblue;\n",
       "        }</style><table id=\"T_ab334317_719c_11ee_8414_c8d9d2e06792\" ><thead>    <tr>        <th class=\"blank level0\" ></th>        <th class=\"col_heading level0 col0\" >Model</th>        <th class=\"col_heading level0 col1\" >Accuracy (Test Set)</th>        <th class=\"col_heading level0 col2\" >F1 Score (Test Set)</th>        <th class=\"col_heading level0 col3\" >Recall (Test Set)</th>        <th class=\"col_heading level0 col4\" >Precision (Test Set)</th>    </tr></thead><tbody>\n",
       "                <tr>\n",
       "                        <th id=\"T_ab334317_719c_11ee_8414_c8d9d2e06792level0_row0\" class=\"row_heading level0 row0\" >0</th>\n",
       "                        <td id=\"T_ab334317_719c_11ee_8414_c8d9d2e06792row0_col0\" class=\"data row0 col0\" >Decision Tree Classifier (Default)</td>\n",
       "                        <td id=\"T_ab334317_719c_11ee_8414_c8d9d2e06792row0_col1\" class=\"data row0 col1\" >0.888502</td>\n",
       "                        <td id=\"T_ab334317_719c_11ee_8414_c8d9d2e06792row0_col2\" class=\"data row0 col2\" >0.584416</td>\n",
       "                        <td id=\"T_ab334317_719c_11ee_8414_c8d9d2e06792row0_col3\" class=\"data row0 col3\" >0.681818</td>\n",
       "                        <td id=\"T_ab334317_719c_11ee_8414_c8d9d2e06792row0_col4\" class=\"data row0 col4\" >0.296296</td>\n",
       "            </tr>\n",
       "            <tr>\n",
       "                        <th id=\"T_ab334317_719c_11ee_8414_c8d9d2e06792level0_row1\" class=\"row_heading level0 row1\" >1</th>\n",
       "                        <td id=\"T_ab334317_719c_11ee_8414_c8d9d2e06792row1_col0\" class=\"data row1 col0\" >Tuned Decision Tree Classifier</td>\n",
       "                        <td id=\"T_ab334317_719c_11ee_8414_c8d9d2e06792row1_col1\" class=\"data row1 col1\" >0.855401</td>\n",
       "                        <td id=\"T_ab334317_719c_11ee_8414_c8d9d2e06792row1_col2\" class=\"data row1 col2\" >0.457516</td>\n",
       "                        <td id=\"T_ab334317_719c_11ee_8414_c8d9d2e06792row1_col3\" class=\"data row1 col3\" >0.530303</td>\n",
       "                        <td id=\"T_ab334317_719c_11ee_8414_c8d9d2e06792row1_col4\" class=\"data row1 col4\" >0.402299</td>\n",
       "            </tr>\n",
       "    </tbody></table>"
      ],
      "text/plain": [
       "<pandas.io.formats.style.Styler at 0x1aa83411d00>"
      ]
     },
     "execution_count": 95,
     "metadata": {},
     "output_type": "execute_result"
    }
   ],
   "source": [
    "#Comparison\n",
    "comparison_frame = pd.DataFrame({'Model':['Decision Tree Classifier (Default)',\n",
    "                                          'Tuned Decision Tree Classifier'],\n",
    "                                 'Accuracy (Test Set)':[accuracy_score(y_test,y_te_pred_dt), accuracy_score(y_test,y_te_pred_dtcv)],\n",
    "                                 'F1 Score (Test Set)':[f1_score(y_test, y_te_pred_dt), f1_score(y_test,y_te_pred_dtcv)],\n",
    "                                 'Recall (Test Set)':[recall_score(y_test, y_te_pred_dt), recall_score(y_test,y_te_pred_dtcv)], \n",
    "                                 'Precision (Test Set)':[precision_score(y_test, y_test_pred), precision_score(y_test,y_te_pred_dtcv)]}) \n",
    "\n",
    "comparison_frame.style.highlight_max(color = 'lightblue', axis = 0)"
   ]
  },
  {
   "cell_type": "markdown",
   "metadata": {},
   "source": [
    "### 3. Random Forest"
   ]
  },
  {
   "cell_type": "code",
   "execution_count": 65,
   "metadata": {},
   "outputs": [],
   "source": [
    "rf_params= {'n_estimators': [50, 100],\n",
    "            'max_depth': [10, 20],\n",
    "            'min_samples_split': [2, 5],\n",
    "            'min_samples_leaf': [1, 2],\n",
    "            'max_features': ['auto', 'sqrt'],\n",
    "            'criterion': ['gini', 'entropy'],\n",
    "    }"
   ]
  },
  {
   "cell_type": "code",
   "execution_count": 66,
   "metadata": {},
   "outputs": [
    {
     "name": "stdout",
     "output_type": "stream",
     "text": [
      "Best parameters:{'criterion': 'entropy', 'max_depth': 20, 'max_features': 'sqrt', 'min_samples_leaf': 1, 'min_samples_split': 5, 'n_estimators': 100}\n"
     ]
    }
   ],
   "source": [
    "rf_model_2 = RandomForestClassifier()\n",
    "rf_cv_model = GridSearchCV(rf_model_2, rf_params, cv=3, n_jobs= -1, verbose=False)\n",
    "rf_cv_model.fit(X_train_resampled, y_train_resampled)\n",
    "print(\"Best parameters:\"+str(rf_cv_model.best_params_))"
   ]
  },
  {
   "cell_type": "code",
   "execution_count": 67,
   "metadata": {},
   "outputs": [],
   "source": [
    "rf_cv_model = RandomForestClassifier(criterion= 'entropy',\n",
    "                                      max_depth= 20, \n",
    "                                      max_features = 'sqrt', \n",
    "                                      min_samples_leaf= 1,\n",
    "                                      min_samples_split= 2, \n",
    "                                        n_estimators= 50)\n",
    "rf_cv_model.fit(X_train_resampled, y_train_resampled)\n",
    "y_te_pred_rfcv = rf_cv_model.predict(X_test)"
   ]
  },
  {
   "cell_type": "code",
   "execution_count": 68,
   "metadata": {},
   "outputs": [
    {
     "name": "stdout",
     "output_type": "stream",
     "text": [
      "              precision    recall  f1-score   support\n",
      "\n",
      "           0       0.96      0.96      0.96       508\n",
      "           1       0.69      0.68      0.69        66\n",
      "\n",
      "    accuracy                           0.93       574\n",
      "   macro avg       0.83      0.82      0.82       574\n",
      "weighted avg       0.93      0.93      0.93       574\n",
      "\n"
     ]
    }
   ],
   "source": [
    "report = classification_report(y_test, y_te_pred_rfcv)\n",
    "print(report)"
   ]
  },
  {
   "cell_type": "code",
   "execution_count": 69,
   "metadata": {},
   "outputs": [
    {
     "name": "stdout",
     "output_type": "stream",
     "text": [
      "Testing Precision:  0.6923076923076923\n",
      "Testing Recall:  0.6818181818181818\n",
      "Testing Accuracy:  0.9285714285714286\n",
      "Testing F1-Score:  0.6870229007633587\n"
     ]
    }
   ],
   "source": [
    "print('Testing Precision: ', precision_score(y_test, y_te_pred_rfcv))\n",
    "print('Testing Recall: ', recall_score(y_test, y_te_pred_rfcv))\n",
    "print('Testing Accuracy: ', accuracy_score(y_test, y_te_pred_rfcv))\n",
    "print('Testing F1-Score: ', f1_score(y_test, y_te_pred_rfcv))"
   ]
  },
  {
   "cell_type": "code",
   "execution_count": 70,
   "metadata": {},
   "outputs": [
    {
     "data": {
      "image/png": "[encoded data removed]",
      "text/plain": [
       "<Figure size 576x432 with 2 Axes>"
      ]
     },
     "metadata": {},
     "output_type": "display_data"
    }
   ],
   "source": [
    "plot_confusion_matrix(rf_cv_model, X_test, y_test, class_labels)\n",
    "plt.grid(visible=False)\n",
    "plt.savefig(fname='./images/cm7.png', facecolor='white')\n",
    "\n",
    "plt.show()"
   ]
  },
  {
   "cell_type": "code",
   "execution_count": 93,
   "metadata": {},
   "outputs": [
    {
     "data": {
      "text/html": [
       "<style  type=\"text/css\" >\n",
       "#T_80110a29_719c_11ee_b951_c8d9d2e06792row0_col1,#T_80110a29_719c_11ee_b951_c8d9d2e06792row0_col2,#T_80110a29_719c_11ee_b951_c8d9d2e06792row0_col3,#T_80110a29_719c_11ee_b951_c8d9d2e06792row0_col4{\n",
       "            background-color:  lightblue;\n",
       "        }</style><table id=\"T_80110a29_719c_11ee_b951_c8d9d2e06792\" ><thead>    <tr>        <th class=\"blank level0\" ></th>        <th class=\"col_heading level0 col0\" >Model</th>        <th class=\"col_heading level0 col1\" >Accuracy (Test Set)</th>        <th class=\"col_heading level0 col2\" >F1 Score (Test Set)</th>        <th class=\"col_heading level0 col3\" >Recall (Test Set)</th>        <th class=\"col_heading level0 col4\" >Precision (Test Set)</th>    </tr></thead><tbody>\n",
       "                <tr>\n",
       "                        <th id=\"T_80110a29_719c_11ee_b951_c8d9d2e06792level0_row0\" class=\"row_heading level0 row0\" >0</th>\n",
       "                        <td id=\"T_80110a29_719c_11ee_b951_c8d9d2e06792row0_col0\" class=\"data row0 col0\" >Random Forest Classifier (Default)</td>\n",
       "                        <td id=\"T_80110a29_719c_11ee_b951_c8d9d2e06792row0_col1\" class=\"data row0 col1\" >0.932056</td>\n",
       "                        <td id=\"T_80110a29_719c_11ee_b951_c8d9d2e06792row0_col2\" class=\"data row0 col2\" >0.706767</td>\n",
       "                        <td id=\"T_80110a29_719c_11ee_b951_c8d9d2e06792row0_col3\" class=\"data row0 col3\" >0.712121</td>\n",
       "                        <td id=\"T_80110a29_719c_11ee_b951_c8d9d2e06792row0_col4\" class=\"data row0 col4\" >0.701493</td>\n",
       "            </tr>\n",
       "            <tr>\n",
       "                        <th id=\"T_80110a29_719c_11ee_b951_c8d9d2e06792level0_row1\" class=\"row_heading level0 row1\" >1</th>\n",
       "                        <td id=\"T_80110a29_719c_11ee_b951_c8d9d2e06792row1_col0\" class=\"data row1 col0\" >Tuned Random Forest Classifier</td>\n",
       "                        <td id=\"T_80110a29_719c_11ee_b951_c8d9d2e06792row1_col1\" class=\"data row1 col1\" >0.928571</td>\n",
       "                        <td id=\"T_80110a29_719c_11ee_b951_c8d9d2e06792row1_col2\" class=\"data row1 col2\" >0.687023</td>\n",
       "                        <td id=\"T_80110a29_719c_11ee_b951_c8d9d2e06792row1_col3\" class=\"data row1 col3\" >0.681818</td>\n",
       "                        <td id=\"T_80110a29_719c_11ee_b951_c8d9d2e06792row1_col4\" class=\"data row1 col4\" >0.692308</td>\n",
       "            </tr>\n",
       "    </tbody></table>"
      ],
      "text/plain": [
       "<pandas.io.formats.style.Styler at 0x1aafedcc370>"
      ]
     },
     "execution_count": 93,
     "metadata": {},
     "output_type": "execute_result"
    }
   ],
   "source": [
    "comparison_frame = pd.DataFrame({'Model':['Random Forest Classifier (Default)',\n",
    "                                          'Tuned Random Forest Classifier'],\n",
    "                                 'Accuracy (Test Set)':[accuracy_score(y_test,y_te_pred_rf), accuracy_score(y_test,y_te_pred_rfcv)],\n",
    "                                 'F1 Score (Test Set)':[f1_score(y_test, y_te_pred_rf), f1_score(y_test,y_te_pred_rfcv)],\n",
    "                                 'Recall (Test Set)':[recall_score(y_test, y_te_pred_rf), recall_score(y_test,y_te_pred_rfcv)], \n",
    "                                 'Precision (Test Set)':[precision_score(y_test, y_te_pred_rf), precision_score(y_test,y_te_pred_rfcv)]}) \n",
    "\n",
    "comparison_frame.style.highlight_max(color = 'lightblue', axis = 0)"
   ]
  },
  {
   "cell_type": "markdown",
   "metadata": {},
   "source": [
    "### 4. KNN"
   ]
  },
  {
   "cell_type": "code",
   "execution_count": 72,
   "metadata": {},
   "outputs": [],
   "source": [
    "knn_params = {\n",
    "    'n_neighbors': [3, 13, 23, 33, 43, 53, 63, 73],  \n",
    "    'weights': ['uniform', 'distance'], \n",
    "     'metric' : ['manhattan', 'euclidean', 'minkowski'],\n",
    "    'p': [1, 2, 10] \n",
    "     }"
   ]
  },
  {
   "cell_type": "code",
   "execution_count": 73,
   "metadata": {},
   "outputs": [
    {
     "name": "stdout",
     "output_type": "stream",
     "text": [
      "Best parameters:  {'metric': 'euclidean', 'n_neighbors': 3, 'p': 1, 'weights': 'uniform'}\n"
     ]
    }
   ],
   "source": [
    "knn_model_2 = KNeighborsClassifier()\n",
    "knn_cv_model = GridSearchCV(knn_model_2, knn_params, cv=3, n_jobs= -1, verbose=False)\n",
    "knn_cv_model.fit(X_train_resampled, y_train_resampled)\n",
    "print(\"Best parameters: \", knn_cv_model.best_params_)"
   ]
  },
  {
   "cell_type": "code",
   "execution_count": 74,
   "metadata": {},
   "outputs": [],
   "source": [
    "knn_cv_model = KNeighborsClassifier(metric= 'euclidean', \n",
    "                                    n_neighbors= 3, \n",
    "                                    p = 1, \n",
    "                                    weights= 'uniform') \n",
    "knn_cv_model.fit(X_train_resampled, y_train_resampled)\n",
    "y_te_pred_knncv = knn_cv_model.predict(X_test)"
   ]
  },
  {
   "cell_type": "code",
   "execution_count": 75,
   "metadata": {},
   "outputs": [
    {
     "name": "stdout",
     "output_type": "stream",
     "text": [
      "              precision    recall  f1-score   support\n",
      "\n",
      "           0       0.93      0.80      0.86       508\n",
      "           1       0.26      0.55      0.35        66\n",
      "\n",
      "    accuracy                           0.77       574\n",
      "   macro avg       0.59      0.67      0.60       574\n",
      "weighted avg       0.85      0.77      0.80       574\n",
      "\n"
     ]
    }
   ],
   "source": [
    "report = classification_report(y_test, y_te_pred_knncv)\n",
    "print(report)"
   ]
  },
  {
   "cell_type": "code",
   "execution_count": 76,
   "metadata": {},
   "outputs": [
    {
     "name": "stdout",
     "output_type": "stream",
     "text": [
      "Testing Precision:  0.2571428571428571\n",
      "Testing Recall:  0.5454545454545454\n",
      "Testing Accuracy:  0.7665505226480837\n",
      "Testing F1-Score:  0.6870229007633587\n"
     ]
    }
   ],
   "source": [
    "print('Testing Precision: ', precision_score(y_test, y_te_pred_knncv))\n",
    "print('Testing Recall: ', recall_score(y_test, y_te_pred_knncv))\n",
    "print('Testing Accuracy: ', accuracy_score(y_test, y_te_pred_knncv))\n",
    "print('Testing F1-Score: ', f1_score(y_test, y_te_pred_rfcv))"
   ]
  },
  {
   "cell_type": "code",
   "execution_count": 77,
   "metadata": {},
   "outputs": [
    {
     "data": {
      "image/png": "[encoded data removed]",
      "text/plain": [
       "<Figure size 576x432 with 2 Axes>"
      ]
     },
     "metadata": {},
     "output_type": "display_data"
    }
   ],
   "source": [
    "plot_confusion_matrix(knn_cv_model, X_test, y_test, class_labels)\n",
    "plt.grid(visible=False)\n",
    "plt.savefig(fname='./images/cm8.png', facecolor='white')\n",
    "\n",
    "plt.show()"
   ]
  },
  {
   "cell_type": "code",
   "execution_count": 94,
   "metadata": {},
   "outputs": [
    {
     "data": {
      "text/html": [
       "<style  type=\"text/css\" >\n",
       "#T_965528a2_719c_11ee_9e75_c8d9d2e06792row0_col2,#T_965528a2_719c_11ee_9e75_c8d9d2e06792row0_col3,#T_965528a2_719c_11ee_9e75_c8d9d2e06792row0_col4,#T_965528a2_719c_11ee_9e75_c8d9d2e06792row1_col1{\n",
       "            background-color:  lightblue;\n",
       "        }</style><table id=\"T_965528a2_719c_11ee_9e75_c8d9d2e06792\" ><thead>    <tr>        <th class=\"blank level0\" ></th>        <th class=\"col_heading level0 col0\" >Model</th>        <th class=\"col_heading level0 col1\" >Accuracy (Test Set)</th>        <th class=\"col_heading level0 col2\" >F1 Score (Test Set)</th>        <th class=\"col_heading level0 col3\" >Recall (Test Set)</th>        <th class=\"col_heading level0 col4\" >Precision (Test Set)</th>    </tr></thead><tbody>\n",
       "                <tr>\n",
       "                        <th id=\"T_965528a2_719c_11ee_9e75_c8d9d2e06792level0_row0\" class=\"row_heading level0 row0\" >0</th>\n",
       "                        <td id=\"T_965528a2_719c_11ee_9e75_c8d9d2e06792row0_col0\" class=\"data row0 col0\" >Knn Classifier (Default)</td>\n",
       "                        <td id=\"T_965528a2_719c_11ee_9e75_c8d9d2e06792row0_col1\" class=\"data row0 col1\" >0.752613</td>\n",
       "                        <td id=\"T_965528a2_719c_11ee_9e75_c8d9d2e06792row0_col2\" class=\"data row0 col2\" >0.371681</td>\n",
       "                        <td id=\"T_965528a2_719c_11ee_9e75_c8d9d2e06792row0_col3\" class=\"data row0 col3\" >0.636364</td>\n",
       "                        <td id=\"T_965528a2_719c_11ee_9e75_c8d9d2e06792row0_col4\" class=\"data row0 col4\" >0.262500</td>\n",
       "            </tr>\n",
       "            <tr>\n",
       "                        <th id=\"T_965528a2_719c_11ee_9e75_c8d9d2e06792level0_row1\" class=\"row_heading level0 row1\" >1</th>\n",
       "                        <td id=\"T_965528a2_719c_11ee_9e75_c8d9d2e06792row1_col0\" class=\"data row1 col0\" >Tune Knn Classifier</td>\n",
       "                        <td id=\"T_965528a2_719c_11ee_9e75_c8d9d2e06792row1_col1\" class=\"data row1 col1\" >0.766551</td>\n",
       "                        <td id=\"T_965528a2_719c_11ee_9e75_c8d9d2e06792row1_col2\" class=\"data row1 col2\" >0.349515</td>\n",
       "                        <td id=\"T_965528a2_719c_11ee_9e75_c8d9d2e06792row1_col3\" class=\"data row1 col3\" >0.545455</td>\n",
       "                        <td id=\"T_965528a2_719c_11ee_9e75_c8d9d2e06792row1_col4\" class=\"data row1 col4\" >0.257143</td>\n",
       "            </tr>\n",
       "    </tbody></table>"
      ],
      "text/plain": [
       "<pandas.io.formats.style.Styler at 0x1aaffc42a30>"
      ]
     },
     "execution_count": 94,
     "metadata": {},
     "output_type": "execute_result"
    }
   ],
   "source": [
    "comparison_frame = pd.DataFrame({'Model':['Knn Classifier (Default)',\n",
    "                                          'Tune Knn Classifier'],\n",
    "                                 'Accuracy (Test Set)':[accuracy_score(y_test,y_te_pred_knn), accuracy_score(y_test,y_te_pred_knncv)],\n",
    "                                 'F1 Score (Test Set)':[f1_score(y_test, y_te_pred_knn), f1_score(y_test,y_te_pred_knncv)],\n",
    "                                 'Recall (Test Set)':[recall_score(y_test, y_te_pred_knn), recall_score(y_test,y_te_pred_knncv)], \n",
    "                                 'Precision (Test Set)':[precision_score(y_test, y_te_pred_knn), precision_score(y_test,y_te_pred_knncv)]}) \n",
    "\n",
    "comparison_frame.style.highlight_max(color = 'lightblue', axis = 0)"
   ]
  },
  {
   "cell_type": "markdown",
   "metadata": {},
   "source": [
    "## Evaluation"
   ]
  },
  {
   "cell_type": "markdown",
   "metadata": {},
   "source": [
    "### Model Comparison\n",
    "\n",
    "These models have undergone hyperparameter tuning to enhance their performance. Let's proceed to evaluate and compare the results achieved by these optimized models.\n"
   ]
  },
  {
   "cell_type": "markdown",
   "metadata": {},
   "source": [
    "### ROC Curve Analysis and Model Ranking\n",
    "A model with a higher ROC curve that is closer to the top-left corner indicates better predictive accuracy.\n",
    "The area under the ROC curve (AUC) is also calculated. A higher AUC indicates better discrimination power."
   ]
  },
  {
   "cell_type": "code",
   "execution_count": 79,
   "metadata": {},
   "outputs": [],
   "source": [
    "#Tuned Models\n",
    "models = [('Tuned LogisticRegression', lr_model_w_CV),\n",
    "          ('Tuned DecisionTree', dt_wcv_model),\n",
    "          ('Tuned RandomForest', rf_cv_model),\n",
    "          ('Tuned K-Nearest Neighbours', knn_cv_model)]"
   ]
  },
  {
   "cell_type": "code",
   "execution_count": 98,
   "metadata": {},
   "outputs": [
    {
     "data": {
      "image/png": "[encoded data removed]",
      "text/plain": [
       "<Figure size 576x432 with 1 Axes>"
      ]
     },
     "metadata": {},
     "output_type": "display_data"
    },
    {
     "name": "stdout",
     "output_type": "stream",
     "text": [
      "\u001b[1mModels sorted by AUC in descending order:\n",
      "\u001b[0m\n",
      "Tuned RandomForest\n",
      "Tuned LogisticRegression\n",
      "Tuned DecisionTree\n",
      "Tuned K-Nearest Neighbours\n"
     ]
    }
   ],
   "source": [
    "plt.figure(figsize=(8, 6))\n",
    "roc_auc_values = []\n",
    "\n",
    "for model_name, model in models:\n",
    "    y_probas = model.predict_proba(X_test)[:, 1]\n",
    "    fpr, tpr, _ = roc_curve(y_test, y_probas)\n",
    "\n",
    "    roc_auc = roc_auc_score(y_test, y_probas)\n",
    "    roc_auc_values.append((model_name, roc_auc))\n",
    "    plt.plot(fpr, tpr, label=f'{model_name}, AUC={roc_auc:.3f}')\n",
    "\n",
    "# Sort models by AUC in descending order\n",
    "roc_auc_values.sort(key=lambda x: x[1], reverse=True)\n",
    "\n",
    "sorted_model_names = [model[0] for model in roc_auc_values]\n",
    "\n",
    "plt.plot([0, 1], [0, 1], color='navy', lw=2, linestyle='--')\n",
    "plt.xlabel('False Positive Rate')\n",
    "plt.ylabel ('True Positive Rate')\n",
    "plt.title('ROC Curve Analysis')\n",
    "plt.legend()\n",
    "plt.savefig('images/roc.png')\n",
    "plt.show()\n",
    "\n",
    "print(\"\\033[1mModels sorted by AUC in descending order:\\n\\033[0m\")\n",
    "for model_name in sorted_model_names:\n",
    "    print(model_name)"
   ]
  },
  {
   "cell_type": "markdown",
   "metadata": {},
   "source": [
    "### Accuracy (10-fold cross-validated)"
   ]
  },
  {
   "cell_type": "code",
   "execution_count": 81,
   "metadata": {},
   "outputs": [
    {
     "data": {
      "image/png": "[encoded data removed]",
      "text/plain": [
       "<Figure size 432x288 with 1 Axes>"
      ]
     },
     "metadata": {},
     "output_type": "display_data"
    }
   ],
   "source": [
    "results_acc = pd.DataFrame(columns=[\"Models\", \"Accuracy\"])\n",
    "\n",
    "for model_name, model in models:\n",
    "    y_pred = model.predict(X_test)\n",
    "    accuracy = accuracy_score(y_test, y_pred)\n",
    "    result = pd.DataFrame([[model_name, accuracy * 100]], columns=[\"Models\", \"Accuracy\"])\n",
    "    results_acc = results_acc.append(result)\n",
    "\n",
    "sns.barplot(x='Accuracy', y='Models', data=results_acc, palette='deep')\n",
    "plt.xlabel('Accuracy %')\n",
    "plt.title('Accuracy of the models')\n",
    "plt.xticks(rotation=90)\n",
    "plt.savefig('images/accuracy.png')\n",
    "plt.show()"
   ]
  },
  {
   "cell_type": "code",
   "execution_count": 82,
   "metadata": {},
   "outputs": [
    {
     "data": {
      "text/html": [
       "<div>\n",
       "<style scoped>\n",
       "    .dataframe tbody tr th:only-of-type {\n",
       "        vertical-align: middle;\n",
       "    }\n",
       "\n",
       "    .dataframe tbody tr th {\n",
       "        vertical-align: top;\n",
       "    }\n",
       "\n",
       "    .dataframe thead th {\n",
       "        text-align: right;\n",
       "    }\n",
       "</style>\n",
       "<table border=\"1\" class=\"dataframe\">\n",
       "  <thead>\n",
       "    <tr style=\"text-align: right;\">\n",
       "      <th></th>\n",
       "      <th>Models</th>\n",
       "      <th>Accuracy</th>\n",
       "    </tr>\n",
       "  </thead>\n",
       "  <tbody>\n",
       "    <tr>\n",
       "      <th>0</th>\n",
       "      <td>Tuned RandomForest</td>\n",
       "      <td>92.857143</td>\n",
       "    </tr>\n",
       "    <tr>\n",
       "      <th>0</th>\n",
       "      <td>Tuned DecisionTree</td>\n",
       "      <td>85.540070</td>\n",
       "    </tr>\n",
       "    <tr>\n",
       "      <th>0</th>\n",
       "      <td>Tuned LogisticRegression</td>\n",
       "      <td>79.094077</td>\n",
       "    </tr>\n",
       "    <tr>\n",
       "      <th>0</th>\n",
       "      <td>Tuned K-Nearest Neighbours</td>\n",
       "      <td>76.655052</td>\n",
       "    </tr>\n",
       "  </tbody>\n",
       "</table>\n",
       "</div>"
      ],
      "text/plain": [
       "                       Models   Accuracy\n",
       "0          Tuned RandomForest  92.857143\n",
       "0          Tuned DecisionTree  85.540070\n",
       "0    Tuned LogisticRegression  79.094077\n",
       "0  Tuned K-Nearest Neighbours  76.655052"
      ]
     },
     "execution_count": 82,
     "metadata": {},
     "output_type": "execute_result"
    }
   ],
   "source": [
    "results_acc.sort_values(by='Accuracy', ascending=False)"
   ]
  },
  {
   "cell_type": "markdown",
   "metadata": {},
   "source": [
    "### F1 Score (10-fold cross-validated)"
   ]
  },
  {
   "cell_type": "code",
   "execution_count": 83,
   "metadata": {},
   "outputs": [
    {
     "data": {
      "image/png": "[encoded data removed]",
      "text/plain": [
       "<Figure size 432x288 with 1 Axes>"
      ]
     },
     "metadata": {},
     "output_type": "display_data"
    }
   ],
   "source": [
    "# Calculates F1 scores and sorts the models by F1 score in descending order\n",
    "f1_scores = []\n",
    "results_f1= pd.DataFrame(columns=[\"Models\", \"F1 Score\"])\n",
    "\n",
    "for model_name, model in models:\n",
    "    f1_scores = cross_val_score(model, X, y, cv=10, scoring='f1_macro')\n",
    "    result = pd.DataFrame([[model_name, f1_scores.mean()]], columns=[\"Models\", \"F1 Score\"])\n",
    "    results_f1 = results_f1.append(result)\n",
    "\n",
    "sns.barplot(x='F1 Score', y='Models', data=results_f1, palette='deep')\n",
    "plt.xlabel('F1 Score')\n",
    "plt.ylabel('Models')\n",
    "plt.title('F1 Score (10-fold Cross-Validation) of the Models')\n",
    "plt.xticks(rotation=90)\n",
    "plt.savefig('images/f1.png')\n",
    "plt.show()\n"
   ]
  },
  {
   "cell_type": "code",
   "execution_count": 84,
   "metadata": {},
   "outputs": [
    {
     "data": {
      "text/html": [
       "<div>\n",
       "<style scoped>\n",
       "    .dataframe tbody tr th:only-of-type {\n",
       "        vertical-align: middle;\n",
       "    }\n",
       "\n",
       "    .dataframe tbody tr th {\n",
       "        vertical-align: top;\n",
       "    }\n",
       "\n",
       "    .dataframe thead th {\n",
       "        text-align: right;\n",
       "    }\n",
       "</style>\n",
       "<table border=\"1\" class=\"dataframe\">\n",
       "  <thead>\n",
       "    <tr style=\"text-align: right;\">\n",
       "      <th></th>\n",
       "      <th>Models</th>\n",
       "      <th>F1 Score</th>\n",
       "    </tr>\n",
       "  </thead>\n",
       "  <tbody>\n",
       "    <tr>\n",
       "      <th>0</th>\n",
       "      <td>Tuned RandomForest</td>\n",
       "      <td>0.861548</td>\n",
       "    </tr>\n",
       "    <tr>\n",
       "      <th>0</th>\n",
       "      <td>Tuned DecisionTree</td>\n",
       "      <td>0.716115</td>\n",
       "    </tr>\n",
       "    <tr>\n",
       "      <th>0</th>\n",
       "      <td>Tuned K-Nearest Neighbours</td>\n",
       "      <td>0.604070</td>\n",
       "    </tr>\n",
       "    <tr>\n",
       "      <th>0</th>\n",
       "      <td>Tuned LogisticRegression</td>\n",
       "      <td>0.592031</td>\n",
       "    </tr>\n",
       "  </tbody>\n",
       "</table>\n",
       "</div>"
      ],
      "text/plain": [
       "                       Models  F1 Score\n",
       "0          Tuned RandomForest  0.861548\n",
       "0          Tuned DecisionTree  0.716115\n",
       "0  Tuned K-Nearest Neighbours  0.604070\n",
       "0    Tuned LogisticRegression  0.592031"
      ]
     },
     "execution_count": 84,
     "metadata": {},
     "output_type": "execute_result"
    }
   ],
   "source": [
    "results_f1.sort_values(by='F1 Score', ascending=False)"
   ]
  },
  {
   "cell_type": "markdown",
   "metadata": {},
   "source": [
    "### Model Selection"
   ]
  },
  {
   "cell_type": "markdown",
   "metadata": {},
   "source": [
    "The Random Forest model stands out as the top choice, boasting exceptional accuracy of  92.857143% and an impressive F1 score of 86.1548%. This means it excels at precisely classifying instances while maintaining a balanced trade-off between precision and recall.\n",
    "\n",
    "Random Forest's strengths extend to its capacity to handle high-dimensional data and intricate feature relationships. It leverages multiple decision trees, mitigating overfitting and enhancing generalization on unseen data. Furthermore, it gracefully manages outliers, noisy data, and missing values.\n",
    "\n",
    "Overall, the Random Forest model's remarkable accuracy, resilience against overfitting, and ability to identify vital features make it a dependable choice for this classification task."
   ]
  },
  {
   "cell_type": "markdown",
   "metadata": {},
   "source": [
    "### Feature importance according to the Random Forest Model"
   ]
  },
  {
   "cell_type": "code",
   "execution_count": 85,
   "metadata": {},
   "outputs": [
    {
     "data": {
      "image/png": "[encoded data removed]",
      "text/plain": [
       "<Figure size 720x432 with 1 Axes>"
      ]
     },
     "metadata": {},
     "output_type": "display_data"
    }
   ],
   "source": [
    "feature_importance = rf_cv_model.feature_importances_\n",
    "sorted_feature_importance = sorted(zip(feature_importance, X_train_resampled.columns), reverse=True)\n",
    "\n",
    "importance_df = pd.DataFrame(sorted_feature_importance, columns=['Importance', 'Feature'])\n",
    "\n",
    "plt.figure(figsize=(10, 6))\n",
    "sns.barplot(x='Importance', y='Feature', data=importance_df, palette='deep')\n",
    "plt.xlabel('Feature Importance')\n",
    "plt.ylabel('Feature Name')\n",
    "plt.title('Feature Importance Plot')\n",
    "plt.savefig('images/featureim.png')\n",
    "plt.show()\n",
    "\n"
   ]
  },
  {
   "cell_type": "markdown",
   "metadata": {},
   "source": [
    "## Findings"
   ]
  },
  {
   "cell_type": "markdown",
   "metadata": {},
   "source": [
    "#### Top 10 Most Important Features"
   ]
  },
  {
   "cell_type": "code",
   "execution_count": 86,
   "metadata": {},
   "outputs": [
    {
     "data": {
      "text/html": [
       "<div>\n",
       "<style scoped>\n",
       "    .dataframe tbody tr th:only-of-type {\n",
       "        vertical-align: middle;\n",
       "    }\n",
       "\n",
       "    .dataframe tbody tr th {\n",
       "        vertical-align: top;\n",
       "    }\n",
       "\n",
       "    .dataframe thead th {\n",
       "        text-align: right;\n",
       "    }\n",
       "</style>\n",
       "<table border=\"1\" class=\"dataframe\">\n",
       "  <thead>\n",
       "    <tr style=\"text-align: right;\">\n",
       "      <th></th>\n",
       "      <th>Importance</th>\n",
       "      <th>Feature</th>\n",
       "    </tr>\n",
       "  </thead>\n",
       "  <tbody>\n",
       "    <tr>\n",
       "      <th>0</th>\n",
       "      <td>0.156667</td>\n",
       "      <td>customer_service_calls</td>\n",
       "    </tr>\n",
       "    <tr>\n",
       "      <th>1</th>\n",
       "      <td>0.156389</td>\n",
       "      <td>total_day_charge</td>\n",
       "    </tr>\n",
       "    <tr>\n",
       "      <th>2</th>\n",
       "      <td>0.127794</td>\n",
       "      <td>total_day_minutes</td>\n",
       "    </tr>\n",
       "    <tr>\n",
       "      <th>3</th>\n",
       "      <td>0.061367</td>\n",
       "      <td>total_eve_minutes</td>\n",
       "    </tr>\n",
       "    <tr>\n",
       "      <th>4</th>\n",
       "      <td>0.056382</td>\n",
       "      <td>total_eve_charge</td>\n",
       "    </tr>\n",
       "    <tr>\n",
       "      <th>5</th>\n",
       "      <td>0.051212</td>\n",
       "      <td>voice_mail_plan_is_yes</td>\n",
       "    </tr>\n",
       "    <tr>\n",
       "      <th>6</th>\n",
       "      <td>0.049376</td>\n",
       "      <td>number_vmail_messages</td>\n",
       "    </tr>\n",
       "    <tr>\n",
       "      <th>7</th>\n",
       "      <td>0.047570</td>\n",
       "      <td>total_intl_calls</td>\n",
       "    </tr>\n",
       "    <tr>\n",
       "      <th>8</th>\n",
       "      <td>0.040894</td>\n",
       "      <td>total_night_charge</td>\n",
       "    </tr>\n",
       "    <tr>\n",
       "      <th>9</th>\n",
       "      <td>0.037323</td>\n",
       "      <td>state</td>\n",
       "    </tr>\n",
       "  </tbody>\n",
       "</table>\n",
       "</div>"
      ],
      "text/plain": [
       "   Importance                 Feature\n",
       "0    0.156667  customer_service_calls\n",
       "1    0.156389        total_day_charge\n",
       "2    0.127794       total_day_minutes\n",
       "3    0.061367       total_eve_minutes\n",
       "4    0.056382        total_eve_charge\n",
       "5    0.051212  voice_mail_plan_is_yes\n",
       "6    0.049376   number_vmail_messages\n",
       "7    0.047570        total_intl_calls\n",
       "8    0.040894      total_night_charge\n",
       "9    0.037323                   state"
      ]
     },
     "execution_count": 86,
     "metadata": {},
     "output_type": "execute_result"
    }
   ],
   "source": [
    "importance_df.head(10)"
   ]
  },
  {
   "cell_type": "markdown",
   "metadata": {},
   "source": [
    "1. Customer Service Calls :\n",
    "* This has the highest feature importance. This suggest that customers who frequently contant customer service may be more likely to churn. This could be a sign of unresolved issues or dissatisfaction.\n",
    "\n",
    "2. Total Day Charge and Total Day Minutes:\n",
    "* This implies that the amount a customer is charged during the day and the total minutes spent on day calls plays a crucial role in predicting churn. High charges indicate dissatisfaction with pricing.\n",
    "\n",
    "3. Total Evening Minutes and Total Evening Charge:\n",
    "* Similar to day metrics, evening minutes and charges are also relevant. Customers who spend more time on evening calls or charged more for evening calls might be prone to churning.\n",
    "\n",
    "4. Number of Voicemail Messages: \n",
    "*  Presence or absence of a voicemail plan and the number of voicemail messages impact churn.\n",
    "\n",
    "5. Total International Calls:\n",
    "* Customers making a higher number of international calls could be more likely to churn, possibly due to the cost or service quality of international calls.\n",
    "\n",
    "6. Voice mail plan:\n",
    "* Whether a customer has a voicemail plan or not affects churn behavior.\n",
    "\n",
    "7. Total night charge:\n",
    "* Nighttime usage contribute to the likelihood of churn\n",
    "\n",
    "8. State:\n",
    "* The state in which a user resides can influence their propensity for churn."
   ]
  },
  {
   "cell_type": "markdown",
   "metadata": {},
   "source": [
    "## Recommendations"
   ]
  },
  {
   "cell_type": "markdown",
   "metadata": {},
   "source": [
    "\n",
    "Based on the important features and their implications for customer churn, here are recommendations to minimize churn:\n",
    "\n",
    "1. Customer Service Calls:\n",
    "\n",
    "* Improve customer service quality and response times to address customer issues promptly.\n",
    "* Implement proactive customer service outreach to identify and resolve problems before they lead to churn.\n",
    "\n",
    "2. Total Day Charge and Total Day Minutes:\n",
    "\n",
    "* Offer competitive pricing and transparent billing for day calls to reduce customer dissatisfaction with charges.\n",
    "* Create cost-effective day call packages to attract and retain price-sensitive customers.\n",
    "\n",
    "3. Total Evening Minutes and Total Evening Charge:\n",
    "\n",
    "* Ensure pricing for evening calls is reasonable.\n",
    "* Consider offering evening call packages to cater to customer preferences for evening communication.\n",
    "\n",
    "4. Number of Voicemail Messages:\n",
    "\n",
    "* Encourage customers to use voicemail services through promotions or incentives.\n",
    "* Ensure that voicemail services are user-friendly and add value for customers.\n",
    "\n",
    "5. Total International Calls:\n",
    "\n",
    "* Review international call rates and quality to make them more attractive.\n",
    "* Offer international calling plans or discounts to retain customers who make international calls.\n",
    "\n",
    "6. Voice Mail Plan:\n",
    "\n",
    "* Promote the benefits of having a voicemail plan to customers.\n",
    "* Consider bundling voicemail plans with other services to increase adoption.\n",
    "\n",
    "7. Total Night Charge:\n",
    "\n",
    "* Leverage the importance of nighttime usage by offering night-specific plans or benefits.\n",
    "* Ensure that nighttime service quality meets customer expectations.\n",
    "\n",
    "8. State:\n",
    "\n",
    "* Analyze regional differences in churn rates and tailor marketing and retention efforts to address specific state-level issues.\n",
    "* Monitor and improve network and service quality in regions with higher churn rates."
   ]
  },
  {
   "cell_type": "markdown",
   "metadata": {},
   "source": [
    "## Conclusion"
   ]
  },
  {
   "cell_type": "markdown",
   "metadata": {},
   "source": [
    "In conclusion, this project aimed to identify and understand factors contributing to customer churn in a telecommunications company. Through data analysis and predictive modeling, we discovered significant predictors of churn, including customer service calls, pricing-related metrics, voicemail usage, and international call patterns.\n",
    "\n",
    "The Random Forest model emerged as the most suitable for predicting churn, offering high accuracy and F1 score. It demonstrated the ability to handle complex relationships between features and capture important patterns in the data. Additionally, feature importance analysis shed light on which factors significantly impact customer churn."
   ]
  }
 ],
 "metadata": {
  "kernelspec": {
   "display_name": "Python (learn-env)",
   "language": "python",
   "name": "learn-env"
  },
  "language_info": {
   "codemirror_mode": {
    "name": "ipython",
    "version": 3
   },
   "file_extension": ".py",
   "mimetype": "text/x-python",
   "name": "python",
   "nbconvert_exporter": "python",
   "pygments_lexer": "ipython3",
   "version": "3.8.5"
  }
 },
 "nbformat": 4,
 "nbformat_minor": 2
}
